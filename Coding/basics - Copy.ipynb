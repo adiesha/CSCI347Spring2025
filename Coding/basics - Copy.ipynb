{
 "cells": [
  {
   "cell_type": "markdown",
   "id": "45ddfbbd-21fd-4d0d-85ce-b0125c81bb8c",
   "metadata": {},
   "source": [
    "Let's do some coding\n",
    "\n",
    "Let's start with a simple exercise. Let us compute the estimated mean of a given array. Suppose you are given ```X = [20, 3, 1 , 3, 6, 4]```. First, in the shell, start python and type following."
   ]
  },
  {
   "cell_type": "code",
   "execution_count": 3,
   "id": "5610b0fe-67ac-4266-894d-57f3c39e41e1",
   "metadata": {},
   "outputs": [
    {
     "data": {
      "text/plain": [
       "6.166666666666667"
      ]
     },
     "execution_count": 3,
     "metadata": {},
     "output_type": "execute_result"
    }
   ],
   "source": [
    "X = [20, 3, 1 , 3, 6, 4]\n",
    "\n",
    "sum = 0\n",
    "for x_i in X:\n",
    "  sum += x_i\n",
    "x_hat = sum/len(X)\n",
    "x_hat"
   ]
  },
  {
   "cell_type": "markdown",
   "id": "4f605d86-a484-4d41-b022-1ede77cabd3c",
   "metadata": {},
   "source": [
    "Okay, now let's try to abstract it by creating a function.\n"
   ]
  },
  {
   "cell_type": "code",
   "execution_count": 4,
   "id": "ba52f71d-f46e-4b15-b841-aef3210ca17d",
   "metadata": {},
   "outputs": [
    {
     "data": {
      "text/plain": [
       "6.166666666666667"
      ]
     },
     "execution_count": 4,
     "metadata": {},
     "output_type": "execute_result"
    }
   ],
   "source": [
    "def mean(X):\n",
    "  sum = 0\n",
    "  for x_i in X:\n",
    "    sum += x_i\n",
    "  x_hat = sum/len(X)\n",
    "  return x_hat\n",
    "\n",
    "X = [20, 3, 1 , 3, 6, 4]\n",
    "mean(X)"
   ]
  },
  {
   "cell_type": "markdown",
   "id": "c45c1d17-3f44-4a2d-91f1-0f695936e086",
   "metadata": {},
   "source": [
    "Okay, now observe that for the semester, we are going to work with Vecctors and matrices. After while it will become harder to work with loops to manipulate them. \n",
    "So we are going to use tools to make our life easier. First we will use numpy.\n"
   ]
  },
  {
   "cell_type": "markdown",
   "id": "c09bd238-e6fd-4fd1-983c-76bae7222d9a",
   "metadata": {},
   "source": [
    "Okay, now observe that for the semester, we are going to work with Vecctors and matrices. After while it will become harder to work with loops to manipulate them. \n",
    "So we are going to use tools to make our life easier. First we will use numpy.\n"
   ]
  },
  {
   "cell_type": "markdown",
   "id": "5e62ec41-a66e-4689-9992-a0a3f46b505e",
   "metadata": {},
   "source": [
    "Let's install numpy\n",
    "\n",
    "```pip install numpy```\n",
    "\n",
    "Type this in your command line, and install numpy."
   ]
  },
  {
   "cell_type": "code",
   "execution_count": 7,
   "id": "710d6e65-e6a4-42a6-b181-894f31d8ea1d",
   "metadata": {},
   "outputs": [
    {
     "data": {
      "text/plain": [
       "np.float64(6.166666666666667)"
      ]
     },
     "execution_count": 7,
     "metadata": {},
     "output_type": "execute_result"
    }
   ],
   "source": [
    "import numpy as np\n",
    "X = np.array([20, 3, 1 , 3, 6, 4])\n",
    "x_hat = X.sum()/ X.size\n",
    "x_hat"
   ]
  },
  {
   "cell_type": "markdown",
   "id": "0af965bb-4916-4a4b-911d-11d81930ae2e",
   "metadata": {},
   "source": [
    "Or we can just use the mean function directly.\n",
    "\n"
   ]
  },
  {
   "cell_type": "code",
   "execution_count": 8,
   "id": "3f8f1cda-a5db-44fe-af90-5af1adfc404d",
   "metadata": {},
   "outputs": [
    {
     "data": {
      "text/plain": [
       "np.float64(6.166666666666667)"
      ]
     },
     "execution_count": 8,
     "metadata": {},
     "output_type": "execute_result"
    }
   ],
   "source": [
    "X.mean()\n"
   ]
  },
  {
   "cell_type": "markdown",
   "id": "5bb2beb0-b076-48fb-b2ad-ee64f2a8ec2e",
   "metadata": {},
   "source": [
    "Nice thing about is that np has some functions for decriptive stats.\n",
    "\n"
   ]
  },
  {
   "cell_type": "code",
   "execution_count": 11,
   "id": "002865cb-3884-44f4-a17a-347172207bee",
   "metadata": {},
   "outputs": [
    {
     "data": {
      "text/plain": [
       "np.int64(20)"
      ]
     },
     "execution_count": 11,
     "metadata": {},
     "output_type": "execute_result"
    }
   ],
   "source": [
    "X.max()\n"
   ]
  },
  {
   "cell_type": "code",
   "execution_count": 12,
   "id": "980dc07b-2840-47bc-97f3-1f9c81c86488",
   "metadata": {},
   "outputs": [
    {
     "data": {
      "text/plain": [
       "np.int64(1)"
      ]
     },
     "execution_count": 12,
     "metadata": {},
     "output_type": "execute_result"
    }
   ],
   "source": [
    "X.min()\n",
    "    "
   ]
  },
  {
   "cell_type": "code",
   "execution_count": 13,
   "id": "962fa131-2a20-4890-993a-b1ddd09e7574",
   "metadata": {},
   "outputs": [
    {
     "data": {
      "text/plain": [
       "np.float64(6.361778227997438)"
      ]
     },
     "execution_count": 13,
     "metadata": {},
     "output_type": "execute_result"
    }
   ],
   "source": [
    "X.std()"
   ]
  },
  {
   "cell_type": "markdown",
   "id": "271a546e-c7e3-4bbf-bdc2-17bd5aaddbc9",
   "metadata": {},
   "source": [
    "OKAY! We learnt a lot about matrices in the last few lectures. Let's try to see whether we can use numpy to handle matrices. Let's create a matrix of 6 rows and 4 columns of some random data to play with."
   ]
  },
  {
   "cell_type": "code",
   "execution_count": 18,
   "id": "f70a5112-b3b3-4e28-862c-521a25f4b3ac",
   "metadata": {},
   "outputs": [
    {
     "data": {
      "text/plain": [
       "array([[0.04522235, 0.7635029 , 0.35560888, 0.35717965],\n",
       "       [0.87005355, 0.09344188, 0.89981975, 0.99326811],\n",
       "       [0.87334077, 0.99010486, 0.49018506, 0.04928653],\n",
       "       [0.69848742, 0.93535763, 0.11820078, 0.86094916],\n",
       "       [0.71672482, 0.88406492, 0.85620985, 0.88327975],\n",
       "       [0.48101292, 0.940891  , 0.77681985, 0.13802364]])"
      ]
     },
     "execution_count": 18,
     "metadata": {},
     "output_type": "execute_result"
    }
   ],
   "source": [
    "D = np.random.random((6,4))\n",
    "\n",
    "D"
   ]
  },
  {
   "cell_type": "markdown",
   "id": "7421f561-5a83-4ef2-ad4f-803267ba7c01",
   "metadata": {},
   "source": [
    "Breaking down the code....\n",
    "\n",
    "```np.random```\n",
    "\n",
    "This is the random number generation module in NumPy, which provides various functions for generating random numbers. Now, let's see the shape of the data that we created.\n",
    "\n",
    "```random```\n",
    "\n",
    "The random function generates random values uniformly distributed in the range [0.0,1.0)\n",
    "\n",
    "```(5,3)```\n",
    "\n",
    "This This tuple specifies the shape of the array. 5 is the number of rows, 3 is the number of columns."
   ]
  },
  {
   "cell_type": "markdown",
   "id": "4e96874e-aaf7-454e-bb3c-b030edc1ff68",
   "metadata": {},
   "source": [
    "Also, let us create a numpy matrix with hard coded values, sometimes for testing and debugging purposes, this will help you!"
   ]
  },
  {
   "cell_type": "code",
   "execution_count": 24,
   "id": "b21c5bac-8aa3-46b7-87f6-83f9eaa9f1df",
   "metadata": {},
   "outputs": [
    {
     "data": {
      "text/plain": [
       "array([[1, 2, 3],\n",
       "       [4, 5, 6],\n",
       "       [7, 8, 9]])"
      ]
     },
     "execution_count": 24,
     "metadata": {},
     "output_type": "execute_result"
    }
   ],
   "source": [
    "N = np.array([[1, 2, 3],\n",
    "                 [4, 5, 6],\n",
    "                 [7, 8, 9]])\n",
    "N"
   ]
  },
  {
   "cell_type": "markdown",
   "id": "6cd48457-d325-46aa-a0c3-210feb1e601a",
   "metadata": {},
   "source": [
    "Let us look at the shape of the data."
   ]
  },
  {
   "cell_type": "code",
   "execution_count": 25,
   "id": "2453db27-ef83-4d36-9b53-b71663eb358b",
   "metadata": {},
   "outputs": [
    {
     "data": {
      "text/plain": [
       "(3, 3)"
      ]
     },
     "execution_count": 25,
     "metadata": {},
     "output_type": "execute_result"
    }
   ],
   "source": [
    "N.shape"
   ]
  },
  {
   "cell_type": "markdown",
   "id": "f6eb8997-1bc2-4c70-8026-739b6e95946d",
   "metadata": {},
   "source": [
    "Let us try to access a value:\n",
    "\n",
    "```D[0,1]```\n",
    "\n",
    "Note that ```D``` is 0 indexed.\n",
    "\n"
   ]
  },
  {
   "cell_type": "code",
   "execution_count": 27,
   "id": "6cbef307-37b0-4ed6-a235-c612df6e1916",
   "metadata": {},
   "outputs": [
    {
     "name": "stdout",
     "output_type": "stream",
     "text": [
      "0.7635028971074811\n"
     ]
    }
   ],
   "source": [
    "D[0,1]\n",
    "print(D[0,1])"
   ]
  },
  {
   "cell_type": "code",
   "execution_count": 28,
   "id": "b6626e5e-400a-4362-bdf9-f3ef5cbf2ef0",
   "metadata": {},
   "outputs": [
    {
     "data": {
      "text/plain": [
       "np.float64(0.8562098463826096)"
      ]
     },
     "execution_count": 28,
     "metadata": {},
     "output_type": "execute_result"
    }
   ],
   "source": [
    "D[4,2]"
   ]
  },
  {
   "cell_type": "code",
   "execution_count": 29,
   "id": "2f39ffaa-4f2d-480c-a070-264942fc87b5",
   "metadata": {},
   "outputs": [
    {
     "data": {
      "text/plain": [
       "np.float64(0.9408909980940758)"
      ]
     },
     "execution_count": 29,
     "metadata": {},
     "output_type": "execute_result"
    }
   ],
   "source": [
    "D[5,1]"
   ]
  },
  {
   "cell_type": "markdown",
   "id": "90826700-f0a6-4ac3-a5a9-3d3356876abe",
   "metadata": {},
   "source": [
    "IndexError: index 5 is out of bounds for axis 0 with size 5.... Obviously!!!\n",
    "\n",
    "Variable ```D``` stores the resulting 2D array.\n",
    "\n",
    "Okay, now let's move onto slicing!! This is very powerful technique. We can do lot of fun stuff.\n",
    "[slicing and dicing (_**See User Docs**_)](https://numpy.org/doc/stable/user/quickstart.html#indexing-slicing-and-iterating)\n",
    "but today we will just do some basics.\n",
    "\n",
    "First let us try to do this by looping.. Try this by yourself!!! \n"
   ]
  },
  {
   "cell_type": "code",
   "execution_count": 34,
   "id": "de34377f-027d-455b-bc09-9eb6371a117a",
   "metadata": {},
   "outputs": [
    {
     "data": {
      "text/plain": [
       "[np.float64(0.04522234605622011),\n",
       " np.float64(0.8700535530321374),\n",
       " np.float64(0.8733407712302205),\n",
       " np.float64(0.6984874173614224),\n",
       " np.float64(0.7167248165090979),\n",
       " np.float64(0.481012918595245)]"
      ]
     },
     "execution_count": 34,
     "metadata": {},
     "output_type": "execute_result"
    }
   ],
   "source": [
    "column_0_loop = []\n",
    "for row in D:\n",
    "    column_0_loop.append(row[0])\n",
    "\n",
    "column_0_loop"
   ]
  },
  {
   "cell_type": "code",
   "execution_count": 35,
   "id": "d4dbf1c0-9cf3-443b-9812-db0473b619e7",
   "metadata": {},
   "outputs": [],
   "source": [
    "column_0 = [row[0] for row in D]"
   ]
  },
  {
   "cell_type": "markdown",
   "id": "e1f5fdb0-e957-494d-ab40-c65577126cdc",
   "metadata": {},
   "source": [
    "Both of these ways seems to be either too cumbersome or hard to read.\n",
    "\n",
    "Let's use numpy to access the first column."
   ]
  },
  {
   "cell_type": "code",
   "execution_count": 37,
   "id": "55cbea87-ede6-4386-9aa1-ae18dcfe18be",
   "metadata": {},
   "outputs": [
    {
     "data": {
      "text/plain": [
       "array([0.04522235, 0.87005355, 0.87334077, 0.69848742, 0.71672482,\n",
       "       0.48101292])"
      ]
     },
     "execution_count": 37,
     "metadata": {},
     "output_type": "execute_result"
    }
   ],
   "source": [
    "X0 = D[:, 0]\n",
    "X0\n",
    "\n"
   ]
  },
  {
   "cell_type": "code",
   "execution_count": 42,
   "id": "7aab61bf-83e7-4cf2-8ad9-41c5f2994c08",
   "metadata": {},
   "outputs": [
    {
     "data": {
      "text/plain": [
       "array([0.7635029 , 0.09344188, 0.99010486, 0.93535763, 0.88406492,\n",
       "       0.940891  ])"
      ]
     },
     "execution_count": 42,
     "metadata": {},
     "output_type": "execute_result"
    }
   ],
   "source": [
    "X1 = D[:, 1]\n",
    "X1"
   ]
  },
  {
   "cell_type": "code",
   "execution_count": 38,
   "id": "8c7799ab-fdfb-4340-80ad-a30ca70328c7",
   "metadata": {},
   "outputs": [
    {
     "data": {
      "text/plain": [
       "array([0.35560888, 0.89981975, 0.49018506, 0.11820078, 0.85620985,\n",
       "       0.77681985])"
      ]
     },
     "execution_count": 38,
     "metadata": {},
     "output_type": "execute_result"
    }
   ],
   "source": [
    "X2 = D[:, 2]\n",
    "X2"
   ]
  },
  {
   "cell_type": "markdown",
   "id": "5888bd02-de50-4089-89cf-ad7742293404",
   "metadata": {},
   "source": [
    "Key points in this \n",
    "- ```D``` This is the NumPy array, which is a 2-dimensional structure (like a matrix) where elements can be accessed using row and column indices.\n",
    "- ```:``` is the slicing operator, it means select all rows in this example\n",
    "- ```0``` Refers to the ith column.\n",
    "\n",
    "What if we want to select multiple columns?"
   ]
  },
  {
   "cell_type": "code",
   "execution_count": 51,
   "id": "41dc9ef4-9b64-4df3-9d68-3fabf40bb75c",
   "metadata": {},
   "outputs": [
    {
     "data": {
      "text/plain": [
       "array([[0.04522235, 0.35560888],\n",
       "       [0.87005355, 0.89981975],\n",
       "       [0.87334077, 0.49018506],\n",
       "       [0.69848742, 0.11820078],\n",
       "       [0.71672482, 0.85620985],\n",
       "       [0.48101292, 0.77681985]])"
      ]
     },
     "execution_count": 51,
     "metadata": {},
     "output_type": "execute_result"
    }
   ],
   "source": [
    "X02 = D[:, [2,0]]\n",
    "X02"
   ]
  },
  {
   "cell_type": "code",
   "execution_count": 52,
   "id": "38f63713-338a-4204-b537-408576a869dd",
   "metadata": {},
   "outputs": [
    {
     "data": {
      "text/plain": [
       "array([[0.04522235, 0.7635029 , 0.35560888, 0.35717965],\n",
       "       [0.87005355, 0.09344188, 0.89981975, 0.99326811],\n",
       "       [0.87334077, 0.99010486, 0.49018506, 0.04928653],\n",
       "       [0.69848742, 0.93535763, 0.11820078, 0.86094916],\n",
       "       [0.71672482, 0.88406492, 0.85620985, 0.88327975],\n",
       "       [0.48101292, 0.940891  , 0.77681985, 0.13802364]])"
      ]
     },
     "execution_count": 52,
     "metadata": {},
     "output_type": "execute_result"
    }
   ],
   "source": [
    "D"
   ]
  },
  {
   "cell_type": "markdown",
   "id": "08c4fc5b-320b-41b3-b001-57e84a70438e",
   "metadata": {},
   "source": [
    "Note that ```X02 = D[:, [2,0]]``` is interpreted by numpy as follows:\n",
    "\n",
    "\n",
    "- ```:``` means slice all rows (basic slicing).\n",
    "- ```[2, 0]``` is a list of column indices (advanced indexing).\n",
    "- NumPy interprets this as: \"For all rows, select columns 2 and 1.\""
   ]
  },
  {
   "cell_type": "markdown",
   "id": "7db5ba9e-6af5-4cd9-b71b-c1a10c6ee433",
   "metadata": {},
   "source": [
    "How about taking a subset of rows with all the columns?"
   ]
  },
  {
   "cell_type": "code",
   "execution_count": 80,
   "id": "53ffecbb-816f-4d11-8c7d-4bd8d4a979ee",
   "metadata": {},
   "outputs": [
    {
     "data": {
      "text/plain": [
       "array([[0.04522235, 0.7635029 , 0.35560888, 0.35717965],\n",
       "       [0.87005355, 0.09344188, 0.89981975, 0.99326811],\n",
       "       [0.87334077, 0.99010486, 0.49018506, 0.04928653]])"
      ]
     },
     "execution_count": 80,
     "metadata": {},
     "output_type": "execute_result"
    }
   ],
   "source": [
    "D[[0,1,2], :]"
   ]
  },
  {
   "cell_type": "code",
   "execution_count": null,
   "id": "3b694c36-05d9-4e0c-8d3d-23801d729427",
   "metadata": {},
   "outputs": [],
   "source": []
  },
  {
   "cell_type": "markdown",
   "id": "bd05ef08-cbba-4973-859d-d61a562ed3d2",
   "metadata": {},
   "source": [
    "What about subset of columns with all rows?\n",
    "You **cannot** use something like:\n",
    "\n",
    "```D[[0,1,2], [1,2]]```"
   ]
  },
  {
   "cell_type": "code",
   "execution_count": 81,
   "id": "a5009f0e-8d67-4c3a-9918-0060dfc5153b",
   "metadata": {},
   "outputs": [
    {
     "ename": "IndexError",
     "evalue": "shape mismatch: indexing arrays could not be broadcast together with shapes (3,) (2,) ",
     "output_type": "error",
     "traceback": [
      "\u001b[1;31m---------------------------------------------------------------------------\u001b[0m",
      "\u001b[1;31mIndexError\u001b[0m                                Traceback (most recent call last)",
      "Cell \u001b[1;32mIn[81], line 1\u001b[0m\n\u001b[1;32m----> 1\u001b[0m \u001b[43mD\u001b[49m\u001b[43m[\u001b[49m\u001b[43m[\u001b[49m\u001b[38;5;241;43m0\u001b[39;49m\u001b[43m,\u001b[49m\u001b[38;5;241;43m1\u001b[39;49m\u001b[43m,\u001b[49m\u001b[38;5;241;43m2\u001b[39;49m\u001b[43m]\u001b[49m\u001b[43m,\u001b[49m\u001b[43m \u001b[49m\u001b[43m[\u001b[49m\u001b[38;5;241;43m1\u001b[39;49m\u001b[43m,\u001b[49m\u001b[38;5;241;43m2\u001b[39;49m\u001b[43m]\u001b[49m\u001b[43m]\u001b[49m\n",
      "\u001b[1;31mIndexError\u001b[0m: shape mismatch: indexing arrays could not be broadcast together with shapes (3,) (2,) "
     ]
    }
   ],
   "source": [
    "D[[0,1,2], [1,2]]"
   ]
  },
  {
   "cell_type": "markdown",
   "id": "cac55519-da1e-47b3-a3d1-94bd2b03661e",
   "metadata": {},
   "source": [
    "```D[[0,1,2], [1,2]]```\n",
    "\n",
    "This is interpreted as pairing the elements of the two lists element by element.\n",
    "\n",
    "```(0, 1) → ``` Element at row 0, column 1\n",
    "\n",
    "```(1, 2) → ``` Element at row 2, column 2\n",
    "\n",
    "```(2, ?) → ``` Error (shape mismatch if sizes differ)"
   ]
  },
  {
   "cell_type": "markdown",
   "id": "6f8b2d24-4024-45a6-9a4e-2ecba772381b",
   "metadata": {},
   "source": [
    "But you can do something like following:\n"
   ]
  },
  {
   "cell_type": "code",
   "execution_count": 83,
   "id": "fadad5d1-0334-4e91-a881-09d301a589d9",
   "metadata": {},
   "outputs": [
    {
     "data": {
      "text/plain": [
       "array([0.35717965, 0.89981975])"
      ]
     },
     "execution_count": 83,
     "metadata": {},
     "output_type": "execute_result"
    }
   ],
   "source": [
    "D[[0,1],[3,2]]"
   ]
  },
  {
   "cell_type": "markdown",
   "id": "7d04e830-1423-43c0-a8b0-f14b95823212",
   "metadata": {},
   "source": [
    "Basically outputting ```(0,3), (1,2)``` indices.\n",
    "\n",
    "This is bit weird."
   ]
  },
  {
   "cell_type": "code",
   "execution_count": 79,
   "id": "945699b8-a723-4f22-8e61-597b8e648651",
   "metadata": {},
   "outputs": [
    {
     "data": {
      "text/plain": [
       "array([[0.04522235, 0.7635029 , 0.35560888, 0.35717965],\n",
       "       [0.87005355, 0.09344188, 0.89981975, 0.99326811],\n",
       "       [0.87334077, 0.99010486, 0.49018506, 0.04928653],\n",
       "       [0.69848742, 0.93535763, 0.11820078, 0.86094916],\n",
       "       [0.71672482, 0.88406492, 0.85620985, 0.88327975],\n",
       "       [0.48101292, 0.940891  , 0.77681985, 0.13802364]])"
      ]
     },
     "execution_count": 79,
     "metadata": {},
     "output_type": "execute_result"
    }
   ],
   "source": [
    "D"
   ]
  },
  {
   "cell_type": "code",
   "execution_count": 84,
   "id": "ab86a679-5746-465c-bcb3-71a1e5b8e660",
   "metadata": {},
   "outputs": [
    {
     "data": {
      "text/plain": [
       "array([[0.7635029 , 0.35560888],\n",
       "       [0.09344188, 0.89981975],\n",
       "       [0.99010486, 0.49018506],\n",
       "       [0.93535763, 0.11820078],\n",
       "       [0.88406492, 0.85620985],\n",
       "       [0.940891  , 0.77681985]])"
      ]
     },
     "execution_count": 84,
     "metadata": {},
     "output_type": "execute_result"
    }
   ],
   "source": [
    "D[:, [1,2]]"
   ]
  },
  {
   "cell_type": "markdown",
   "id": "b0c5eb23-b210-42ab-b357-599c98a358ea",
   "metadata": {},
   "source": [
    "But when it comes to subset of rows and columns, it becomes bit tricky, you cannot use the same trick that we use earlier.\n",
    "\n",
    "Let's look at how we do this...\n",
    "\n",
    "First define the list of rows and columns that needs to be in the result and then use ```np.ix_```"
   ]
  },
  {
   "cell_type": "code",
   "execution_count": 91,
   "id": "05840413-d00e-462b-a5cd-5aaf994dd935",
   "metadata": {},
   "outputs": [
    {
     "name": "stdout",
     "output_type": "stream",
     "text": [
      "[[0.7635029  0.35717965]\n",
      " [0.99010486 0.04928653]\n",
      " [0.93535763 0.86094916]]\n",
      "--------------------\n",
      "[[0.04522235 0.7635029  0.35560888 0.35717965]\n",
      " [0.87005355 0.09344188 0.89981975 0.99326811]\n",
      " [0.87334077 0.99010486 0.49018506 0.04928653]\n",
      " [0.69848742 0.93535763 0.11820078 0.86094916]\n",
      " [0.71672482 0.88406492 0.85620985 0.88327975]\n",
      " [0.48101292 0.940891   0.77681985 0.13802364]]\n"
     ]
    }
   ],
   "source": [
    "rows = [0, 2, 3]  # Rows to select\n",
    "cols = [1, 3]  # Columns to select\n",
    "\n",
    "print(D[np.ix_(rows, cols)])\n",
    "print(\"--------------------\")\n",
    "print(D)"
   ]
  },
  {
   "cell_type": "markdown",
   "id": "a913a562-482a-4452-9689-f974f60f0886",
   "metadata": {},
   "source": [
    "Now, let us look at the dot product."
   ]
  },
  {
   "cell_type": "code",
   "execution_count": 93,
   "id": "eb147824-7aef-4319-bd18-39521b02a418",
   "metadata": {},
   "outputs": [
    {
     "data": {
      "text/plain": [
       "np.float64(2.2969604254654654)"
      ]
     },
     "execution_count": 93,
     "metadata": {},
     "output_type": "execute_result"
    }
   ],
   "source": [
    "np.dot(X0, X2)"
   ]
  },
  {
   "cell_type": "markdown",
   "id": "7178f9e2-b54d-4d4f-8364-a81e0736fa52",
   "metadata": {},
   "source": [
    "We can even get values for the different norms that we talked about.  \n",
    "\n",
    "The [np.linalg package](https://numpy.org/doc/stable/reference/routines.linalg.html)\n",
    "has tons of functionality, but we will just use the norm for now.\n"
   ]
  },
  {
   "cell_type": "code",
   "execution_count": 99,
   "id": "ffdb07a7-6250-45da-9c0a-e38a5dc6107d",
   "metadata": {},
   "outputs": [
    {
     "name": "stdout",
     "output_type": "stream",
     "text": [
      "1.738887047421991 0.8292915800233719\n"
     ]
    }
   ],
   "source": [
    "d1 = np.linalg.norm(X2-X0, 1)\n",
    "d2 = np.linalg.norm(X2-X0, 2)\n",
    "print(d1, d2)"
   ]
  },
  {
   "cell_type": "markdown",
   "id": "d9c22935-e4aa-46fb-adbb-093abb1a771e",
   "metadata": {},
   "source": [
    "And, we can also scale by a number!  So to double our vector X0, we can multiply\n",
    "by 2!"
   ]
  },
  {
   "cell_type": "code",
   "execution_count": 100,
   "id": "db9764e9-a581-44bc-83ae-af8000eed85c",
   "metadata": {},
   "outputs": [
    {
     "data": {
      "text/plain": [
       "array([3.05401159, 0.37376754, 3.96041942, 3.74143053, 3.53625966,\n",
       "       3.76356399])"
      ]
     },
     "execution_count": 100,
     "metadata": {},
     "output_type": "execute_result"
    }
   ],
   "source": [
    "4*X1"
   ]
  },
  {
   "cell_type": "markdown",
   "id": "64d95b03-dd2f-4f7b-8082-0d6a9bcf28ef",
   "metadata": {},
   "source": [
    "So, let's normalize our vector.  That is, make our vector length 1 (in the\n",
    "2-norm)."
   ]
  },
  {
   "cell_type": "code",
   "execution_count": 102,
   "id": "6fe94064-eb08-439b-b46e-372772e8c67a",
   "metadata": {},
   "outputs": [
    {
     "name": "stdout",
     "output_type": "stream",
     "text": [
      "[0.02724675 0.52421284 0.52619341 0.42084314 0.43183129 0.28981337]\n"
     ]
    }
   ],
   "source": [
    "two_norm_of_X0 = np.linalg.norm(X0, 2)\n",
    "normalized_X0 = X0 / two_norm_of_X0\n",
    "print(normalized_X0)"
   ]
  },
  {
   "cell_type": "markdown",
   "id": "72882882-e8e0-413d-a466-e135f365ea6f",
   "metadata": {},
   "source": [
    "The above code is an example of what numpy (and now other libraries in the\n",
    "python world call) ([broadcasting](https://numpy.org/doc/stable/user/basics.broadcasting.html)).\n",
    "The idea behind broadcasting is that the system \"stretches\" objects to higher\n",
    "dimensional objects so that operations can occur in a meaningful way."
   ]
  },
  {
   "cell_type": "markdown",
   "id": "c0a1aed1-7437-4505-82c4-d2e409247dc1",
   "metadata": {},
   "source": [
    "Easy way to create matrix with rand ints..."
   ]
  },
  {
   "cell_type": "code",
   "execution_count": 110,
   "id": "42108827-45e7-4120-a1ad-b040a2083a16",
   "metadata": {},
   "outputs": [
    {
     "name": "stdout",
     "output_type": "stream",
     "text": [
      "[[ 2  9 -2 -2 16 14  1]\n",
      " [13  1 16 10 -1 13  4]\n",
      " [12  5 19  9 15 19 -2]\n",
      " [11 11  8  5 19  8  6]\n",
      " [ 0 19  4 17  7  5 16]]\n"
     ]
    }
   ],
   "source": [
    "# np.random.randint(low, high, size, dtype)\n",
    "I = np.random.randint(-2, 20, (5,7), dtype=np.int32)\n",
    "print(I)"
   ]
  },
  {
   "cell_type": "markdown",
   "id": "64a76b2a-d446-4ed3-a082-c3ec8ee4421d",
   "metadata": {},
   "source": [
    "e could subtract a vector from a matrix\n",
    "\n",
    "```D - np.array([1,2,3])```\n",
    "\n",
    "Add a vector to a matrix\n",
    "\n",
    "```D + np.array([1,2,3])```\n",
    "\n",
    "Let's look at the mean function again. Try the following and see what they mean.\n"
   ]
  },
  {
   "cell_type": "code",
   "execution_count": 114,
   "id": "a842cceb-eeb0-4963-a676-413a2b1590e5",
   "metadata": {},
   "outputs": [
    {
     "ename": "ValueError",
     "evalue": "operands could not be broadcast together with shapes (6,4) (3,) ",
     "output_type": "error",
     "traceback": [
      "\u001b[1;31m---------------------------------------------------------------------------\u001b[0m",
      "\u001b[1;31mValueError\u001b[0m                                Traceback (most recent call last)",
      "Cell \u001b[1;32mIn[114], line 2\u001b[0m\n\u001b[0;32m      1\u001b[0m a \u001b[38;5;241m=\u001b[39m np\u001b[38;5;241m.\u001b[39marray([\u001b[38;5;241m1\u001b[39m,\u001b[38;5;241m2\u001b[39m,\u001b[38;5;241m3\u001b[39m])\n\u001b[1;32m----> 2\u001b[0m \u001b[43mD\u001b[49m\u001b[43m \u001b[49m\u001b[38;5;241;43m-\u001b[39;49m\u001b[43m \u001b[49m\u001b[43ma\u001b[49m\n\u001b[0;32m      3\u001b[0m D \u001b[38;5;241m+\u001b[39m np\u001b[38;5;241m.\u001b[39marray([\u001b[38;5;241m1\u001b[39m,\u001b[38;5;241m2\u001b[39m,\u001b[38;5;241m3\u001b[39m])\n",
      "\u001b[1;31mValueError\u001b[0m: operands could not be broadcast together with shapes (6,4) (3,) "
     ]
    }
   ],
   "source": [
    "a = np.array([1,2,3])\n",
    "I - a\n",
    "I + a"
   ]
  },
  {
   "cell_type": "code",
   "execution_count": 122,
   "id": "ff062974-6f37-4ab7-b403-aaf16d07e13c",
   "metadata": {},
   "outputs": [
    {
     "data": {
      "text/plain": [
       "(6, 4)"
      ]
     },
     "execution_count": 122,
     "metadata": {},
     "output_type": "execute_result"
    }
   ],
   "source": [
    "D.shape"
   ]
  },
  {
   "cell_type": "markdown",
   "id": "febbe34c-c94a-46bb-a99b-448abe4b7899",
   "metadata": {},
   "source": [
    "However, if try to do something like:"
   ]
  },
  {
   "cell_type": "code",
   "execution_count": 132,
   "id": "6578534d-202c-4b13-9fde-bfb00e007e18",
   "metadata": {},
   "outputs": [
    {
     "data": {
      "text/plain": [
       "array([[ 1,  7, -5, -6, 11,  8, -6],\n",
       "       [12, -1, 13,  6, -6,  7, -3],\n",
       "       [11,  3, 16,  5, 10, 13, -9],\n",
       "       [10,  9,  5,  1, 14,  2, -1],\n",
       "       [-1, 17,  1, 13,  2, -1,  9]])"
      ]
     },
     "execution_count": 132,
     "metadata": {},
     "output_type": "execute_result"
    }
   ],
   "source": [
    "b = np.array([[1,2,3,4,5,6,7]])\n",
    "I - b"
   ]
  },
  {
   "cell_type": "markdown",
   "id": "35410158-453e-45cb-ad9f-611fae8e8f05",
   "metadata": {},
   "source": [
    "Basically, it will broadcast to fit the number of rows, but not columns."
   ]
  },
  {
   "cell_type": "markdown",
   "id": "afdc141b-820b-473b-afe4-a21d356803bf",
   "metadata": {},
   "source": [
    "Let's look at the mean function again. Try the following and see what they mean.\n"
   ]
  },
  {
   "cell_type": "code",
   "execution_count": 134,
   "id": "32579e55-e0c6-4232-a1e7-be16b3274f78",
   "metadata": {},
   "outputs": [
    {
     "data": {
      "text/plain": [
       "np.float64(0.6279598336942959)"
      ]
     },
     "execution_count": 134,
     "metadata": {},
     "output_type": "execute_result"
    }
   ],
   "source": [
    "I.mean()"
   ]
  },
  {
   "cell_type": "code",
   "execution_count": 135,
   "id": "c716556d-080a-43bf-8306-4c6559b79701",
   "metadata": {},
   "outputs": [
    {
     "data": {
      "text/plain": [
       "array([0.6141403 , 0.76789386, 0.58280736, 0.5469978 ])"
      ]
     },
     "execution_count": 135,
     "metadata": {},
     "output_type": "execute_result"
    }
   ],
   "source": [
    "I.mean(axis=0)"
   ]
  },
  {
   "cell_type": "code",
   "execution_count": 136,
   "id": "fa9dcc84-9da7-4fe7-8359-0b5c47fb9457",
   "metadata": {},
   "outputs": [
    {
     "data": {
      "text/plain": [
       "array([0.38037844, 0.71414582, 0.6007293 , 0.65324875, 0.83506983,\n",
       "       0.58418685])"
      ]
     },
     "execution_count": 136,
     "metadata": {},
     "output_type": "execute_result"
    }
   ],
   "source": [
    "I.mean(axis=1)"
   ]
  },
  {
   "cell_type": "code",
   "execution_count": 138,
   "id": "afdda6d2-dafc-453f-a9ab-22413150cb16",
   "metadata": {},
   "outputs": [
    {
     "data": {
      "text/plain": [
       "array([[ 2,  9, -2, -2, 16, 14,  1],\n",
       "       [13,  1, 16, 10, -1, 13,  4],\n",
       "       [12,  5, 19,  9, 15, 19, -2],\n",
       "       [11, 11,  8,  5, 19,  8,  6],\n",
       "       [ 0, 19,  4, 17,  7,  5, 16]], dtype=int32)"
      ]
     },
     "execution_count": 138,
     "metadata": {},
     "output_type": "execute_result"
    }
   ],
   "source": [
    "I"
   ]
  },
  {
   "cell_type": "markdown",
   "id": "7fe03d3c-178a-403a-873f-1678cdadd356",
   "metadata": {},
   "source": [
    "We can use broadcasting for all sorts of applications.  Use the `mean` function\n",
    "and broadcasting to to mean center your data:\n"
   ]
  },
  {
   "cell_type": "code",
   "execution_count": 139,
   "id": "4860a6de-ab97-416f-8970-6c59207f2817",
   "metadata": {},
   "outputs": [
    {
     "data": {
      "text/plain": [
       "array([[-0.56891796, -0.00439097, -0.22719848, -0.18981816],\n",
       "       [ 0.25591325, -0.67445198,  0.31701239,  0.4462703 ],\n",
       "       [ 0.25920047,  0.22221099, -0.0926223 , -0.49771128],\n",
       "       [ 0.08434711,  0.16746377, -0.46460658,  0.31395136],\n",
       "       [ 0.10258451,  0.11617105,  0.27340248,  0.33628194],\n",
       "       [-0.13312739,  0.17299713,  0.19401249, -0.40897417]])"
      ]
     },
     "execution_count": 139,
     "metadata": {},
     "output_type": "execute_result"
    }
   ],
   "source": [
    "D-D.mean(axis=0)"
   ]
  },
  {
   "cell_type": "markdown",
   "id": "91a041b3-37e7-44ac-a693-a95e0c6332bb",
   "metadata": {},
   "source": [
    "You can take the transpose your matrix as follows:"
   ]
  },
  {
   "cell_type": "code",
   "execution_count": 147,
   "id": "c3f0b219-aed0-4799-84d4-2174b72cf50a",
   "metadata": {},
   "outputs": [
    {
     "name": "stdout",
     "output_type": "stream",
     "text": [
      "[[ 6  3 17]\n",
      " [ 5 12  3]\n",
      " [ 6  4  6]\n",
      " [17 13 11]]\n",
      "[[ 6  5  6 17]\n",
      " [ 3 12  4 13]\n",
      " [17  3  6 11]]\n"
     ]
    }
   ],
   "source": [
    "P = np.random.randint(0, 20, (4,3), dtype=np.int32)\n",
    "print(P)\n",
    "print(P.transpose())"
   ]
  },
  {
   "cell_type": "markdown",
   "id": "85ff125b-fd38-40cd-9f94-c030fd00b088",
   "metadata": {},
   "source": [
    "while I don't have a great reason why you would do this, it illustrates a\n",
    "useful function, write some code to mean center along the rows.  Check out docs\n",
    "for [mean](https://numpy.org/doc/stable/reference/generated/numpy.mean.html) and\n",
    "[transpose](https://numpy.org/doc/stable/reference/generated/numpy.transpose.html)\n",
    "for some help."
   ]
  },
  {
   "cell_type": "code",
   "execution_count": 149,
   "id": "d6c7fbde-9174-4344-8801-50deec916cdf",
   "metadata": {},
   "outputs": [
    {
     "data": {
      "text/plain": [
       "array([[-2.66666667, -5.66666667,  8.33333333],\n",
       "       [-1.66666667,  5.33333333, -3.66666667],\n",
       "       [ 0.66666667, -1.33333333,  0.66666667],\n",
       "       [ 3.33333333, -0.66666667, -2.66666667]])"
      ]
     },
     "execution_count": 149,
     "metadata": {},
     "output_type": "execute_result"
    }
   ],
   "source": [
    "(P.transpose()-P.mean(axis=1)).transpose()"
   ]
  },
  {
   "cell_type": "markdown",
   "id": "1272475a-8779-48ff-a089-820d9c83f939",
   "metadata": {},
   "source": [
    "Okay, now let us move to some statistics. Let us compute the variance of the X0"
   ]
  },
  {
   "cell_type": "code",
   "execution_count": 152,
   "id": "277b3545-4294-4c67-99c8-51c4a04e098c",
   "metadata": {},
   "outputs": [
    {
     "name": "stdout",
     "output_type": "stream",
     "text": [
      "0.09834100691946199\n"
     ]
    }
   ],
   "source": [
    "var_x0 = np.sum((X0-X0.mean())**2) / (X0.size-1)\n",
    "print(var_x0)"
   ]
  },
  {
   "cell_type": "markdown",
   "id": "951fb1f5-c955-4540-bed1-5485fba28e89",
   "metadata": {},
   "source": [
    "okay, what if we use ```np.var(X0)```"
   ]
  },
  {
   "cell_type": "code",
   "execution_count": 153,
   "id": "e267b8a6-e972-445d-bd73-7b8d9fcbb290",
   "metadata": {},
   "outputs": [
    {
     "data": {
      "text/plain": [
       "np.float64(0.08195083909955166)"
      ]
     },
     "execution_count": 153,
     "metadata": {},
     "output_type": "execute_result"
    }
   ],
   "source": [
    "np.var(X0)"
   ]
  },
  {
   "cell_type": "markdown",
   "id": "03eb0484-4b2a-40f7-890d-977ff6e4cab1",
   "metadata": {},
   "source": [
    "What's going on here? Did we make a mistake? Let's check the docs.\n",
    "\n",
    "[np.var](https://numpy.org/doc/stable/reference/generated/numpy.var.html)\n",
    "\n",
    "There is an optional arguement called ddof. By default **ddof** is **zero**. Basically, this mean it calculates the variance using the population variance formula. But the formula that we learnt in the class is an unbiased estimator of the variance.\n",
    "So, let's use that."
   ]
  },
  {
   "cell_type": "code",
   "execution_count": 154,
   "id": "c5cd1f0c-5f92-448c-890e-0dbe3a91ca71",
   "metadata": {},
   "outputs": [
    {
     "data": {
      "text/plain": [
       "np.float64(0.09834100691946199)"
      ]
     },
     "execution_count": 154,
     "metadata": {},
     "output_type": "execute_result"
    }
   ],
   "source": [
    "np.var(X0, ddof =1)"
   ]
  },
  {
   "cell_type": "markdown",
   "id": "cbc84e4c-126b-4723-bade-17bd034db3f8",
   "metadata": {},
   "source": [
    "Let's do a exercise.\n",
    "1.  Create a matrix M of 10 rows and 8 columns, fill with it with random values.\n",
    "2.  Calculate the multi dimensional mean (represent the multi dimensional mean as a vector)\n",
    "3.  Calculate the min, max, variance and SD of each attribute.\n",
    "4.  Create matrix R with range normalized data.\n",
    "5.  Create matrix Z with z-scores."
   ]
  }
 ],
 "metadata": {
  "kernelspec": {
   "display_name": "Python 3 (ipykernel)",
   "language": "python",
   "name": "python3"
  },
  "language_info": {
   "codemirror_mode": {
    "name": "ipython",
    "version": 3
   },
   "file_extension": ".py",
   "mimetype": "text/x-python",
   "name": "python",
   "nbconvert_exporter": "python",
   "pygments_lexer": "ipython3",
   "version": "3.9.13"
  }
 },
 "nbformat": 4,
 "nbformat_minor": 5
}
