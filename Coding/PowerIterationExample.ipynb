{
 "cells": [
  {
   "attachments": {
    "3b245d4b-37a5-40d8-b9fc-c8490586a89f.png": {
     "image/png": "[encoded data removed]"
    }
   },
   "cell_type": "markdown",
   "id": "320d6922-6b1d-4a47-9948-bc63344edb60",
   "metadata": {},
   "source": [
    "![image.png](attachment:3b245d4b-37a5-40d8-b9fc-c8490586a89f.png)"
   ]
  },
  {
   "cell_type": "code",
   "execution_count": 9,
   "id": "8d8ec7b4-147f-4d87-b807-ba1e5b09f187",
   "metadata": {},
   "outputs": [],
   "source": [
    "import numpy as np"
   ]
  },
  {
   "cell_type": "code",
   "execution_count": 10,
   "id": "7ebadeb0-9488-4c5d-ae00-015b1348e47f",
   "metadata": {},
   "outputs": [
    {
     "name": "stdout",
     "output_type": "stream",
     "text": [
      "[[0 0 1 0 0]\n",
      " [1 0 0 0 0]\n",
      " [0 1 0 0 1]\n",
      " [0 0 1 0 0]\n",
      " [0 0 1 0 0]]\n"
     ]
    }
   ],
   "source": [
    "A = np.array([[0,0,1,0,0],\n",
    "              [1,0,0,0,0],\n",
    "              [0,1,0,0,1],\n",
    "              [0,0,1,0,0],\n",
    "              [0,0,1,0,0]])  # adjacency matrix\n",
    "print(A)"
   ]
  },
  {
   "cell_type": "code",
   "execution_count": 11,
   "id": "35886a12-b73d-4b94-bf52-a77e17448958",
   "metadata": {},
   "outputs": [
    {
     "data": {
      "text/plain": [
       "array([[0, 1, 0, 0, 0],\n",
       "       [0, 0, 1, 0, 0],\n",
       "       [1, 0, 0, 1, 1],\n",
       "       [0, 0, 0, 0, 0],\n",
       "       [0, 0, 1, 0, 0]])"
      ]
     },
     "execution_count": 11,
     "metadata": {},
     "output_type": "execute_result"
    }
   ],
   "source": [
    "A_T = np.transpose(A) # taking the transpose matrix for the power iteration formula\n",
    "A_T"
   ]
  },
  {
   "cell_type": "code",
   "execution_count": 12,
   "id": "4aa05cc8-18fd-4586-b449-b49e8a020383",
   "metadata": {},
   "outputs": [
    {
     "data": {
      "text/plain": [
       "array([[1],\n",
       "       [1],\n",
       "       [1],\n",
       "       [1],\n",
       "       [1]])"
      ]
     },
     "execution_count": 12,
     "metadata": {},
     "output_type": "execute_result"
    }
   ],
   "source": [
    "p_guess = np.array([[1,1,1,1,1]])\n",
    "p_0 = np.transpose(p_guess)\n",
    "p_0\n",
    "p = p_0\n",
    "p"
   ]
  },
  {
   "cell_type": "code",
   "execution_count": 13,
   "id": "b4919a49-7ef8-41e0-9bed-ed2d00cfc35a",
   "metadata": {},
   "outputs": [],
   "source": [
    "def power_iteration(A_T, p, num_of_iterations, ldba_l):\n",
    "    for i in range(num_of_iterations):\n",
    "        p = np.matmul(A_T, p)\n",
    "        # print(\"matrix after multiplication\")\n",
    "        # print(p)\n",
    "        max = np.max(p)\n",
    "        ldba_l.append(max)\n",
    "        print(f\"max is {max}\")\n",
    "        p = p/ max\n",
    "        print(f\"Normalized vector is {p}\")\n",
    "        print(\"+++++++\")\n",
    "    return ldba_l"
   ]
  },
  {
   "cell_type": "code",
   "execution_count": 14,
   "id": "0c8c6c0c-dfc1-4220-8290-bc607f920af4",
   "metadata": {},
   "outputs": [
    {
     "name": "stdout",
     "output_type": "stream",
     "text": [
      "max is 3\n",
      "Normalized vector is [[0.33333333]\n",
      " [0.33333333]\n",
      " [1.        ]\n",
      " [0.        ]\n",
      " [0.33333333]]\n",
      "+++++++\n",
      "max is 1.0\n",
      "Normalized vector is [[0.33333333]\n",
      " [1.        ]\n",
      " [0.66666667]\n",
      " [0.        ]\n",
      " [1.        ]]\n",
      "+++++++\n",
      "max is 1.3333333333333333\n",
      "Normalized vector is [[0.75]\n",
      " [0.5 ]\n",
      " [1.  ]\n",
      " [0.  ]\n",
      " [0.5 ]]\n",
      "+++++++\n",
      "max is 1.25\n",
      "Normalized vector is [[0.4]\n",
      " [0.8]\n",
      " [1. ]\n",
      " [0. ]\n",
      " [0.8]]\n",
      "+++++++\n",
      "max is 1.2000000000000002\n",
      "Normalized vector is [[0.66666667]\n",
      " [0.83333333]\n",
      " [1.        ]\n",
      " [0.        ]\n",
      " [0.83333333]]\n",
      "+++++++\n",
      "max is 1.5\n",
      "Normalized vector is [[0.55555556]\n",
      " [0.66666667]\n",
      " [1.        ]\n",
      " [0.        ]\n",
      " [0.66666667]]\n",
      "+++++++\n",
      "max is 1.222222222222222\n",
      "Normalized vector is [[0.54545455]\n",
      " [0.81818182]\n",
      " [1.        ]\n",
      " [0.        ]\n",
      " [0.81818182]]\n",
      "+++++++\n",
      "max is 1.3636363636363638\n",
      "Normalized vector is [[0.6       ]\n",
      " [0.73333333]\n",
      " [1.        ]\n",
      " [0.        ]\n",
      " [0.73333333]]\n",
      "+++++++\n",
      "max is 1.3333333333333333\n",
      "Normalized vector is [[0.55]\n",
      " [0.75]\n",
      " [1.  ]\n",
      " [0.  ]\n",
      " [0.75]]\n",
      "+++++++\n",
      "max is 1.3\n",
      "Normalized vector is [[0.57692308]\n",
      " [0.76923077]\n",
      " [1.        ]\n",
      " [0.        ]\n",
      " [0.76923077]]\n",
      "+++++++\n",
      "max is 1.346153846153846\n",
      "Normalized vector is [[0.57142857]\n",
      " [0.74285714]\n",
      " [1.        ]\n",
      " [0.        ]\n",
      " [0.74285714]]\n",
      "+++++++\n",
      "max is 1.3142857142857143\n",
      "Normalized vector is [[0.56521739]\n",
      " [0.76086957]\n",
      " [1.        ]\n",
      " [0.        ]\n",
      " [0.76086957]]\n",
      "+++++++\n",
      "max is 1.3260869565217392\n",
      "Normalized vector is [[0.57377049]\n",
      " [0.75409836]\n",
      " [1.        ]\n",
      " [0.        ]\n",
      " [0.75409836]]\n",
      "+++++++\n",
      "max is 1.3278688524590163\n",
      "Normalized vector is [[0.56790123]\n",
      " [0.75308642]\n",
      " [1.        ]\n",
      " [0.        ]\n",
      " [0.75308642]]\n",
      "+++++++\n",
      "max is 1.3209876543209877\n",
      "Normalized vector is [[0.57009346]\n",
      " [0.75700935]\n",
      " [1.        ]\n",
      " [0.        ]\n",
      " [0.75700935]]\n",
      "+++++++\n",
      "max is 1.3271028037383177\n",
      "Normalized vector is [[0.57042254]\n",
      " [0.75352113]\n",
      " [1.        ]\n",
      " [0.        ]\n",
      " [0.75352113]]\n",
      "+++++++\n",
      "max is 1.323943661971831\n",
      "Normalized vector is [[0.56914894]\n",
      " [0.75531915]\n",
      " [1.        ]\n",
      " [0.        ]\n",
      " [0.75531915]]\n",
      "+++++++\n",
      "max is 1.324468085106383\n",
      "Normalized vector is [[0.57028112]\n",
      " [0.75502008]\n",
      " [1.        ]\n",
      " [0.        ]\n",
      " [0.75502008]]\n",
      "+++++++\n",
      "max is 1.3253012048192772\n",
      "Normalized vector is [[0.56969697]\n",
      " [0.75454545]\n",
      " [1.        ]\n",
      " [0.        ]\n",
      " [0.75454545]]\n",
      "+++++++\n",
      "max is 1.3242424242424242\n",
      "Normalized vector is [[0.56979405]\n",
      " [0.75514874]\n",
      " [1.        ]\n",
      " [0.        ]\n",
      " [0.75514874]]\n",
      "+++++++\n"
     ]
    }
   ],
   "source": [
    "l = power_iteration(A_T, p_0, 20, [])"
   ]
  },
  {
   "cell_type": "code",
   "execution_count": 22,
   "id": "c586ff00-498b-4d09-abd4-3ed3f4f5e15a",
   "metadata": {},
   "outputs": [
    {
     "data": {
      "image/png": "[encoded data removed]",
      "text/plain": [
       "<Figure size 640x480 with 1 Axes>"
      ]
     },
     "metadata": {},
     "output_type": "display_data"
    }
   ],
   "source": [
    "import matplotlib.pyplot as plt\n",
    "n = len(l)\n",
    "plt.plot(range(1, n+1), l, marker='D')\n",
    "plt.xticks(range(1, n+1)) \n",
    "plt.show()"
   ]
  },
  {
   "cell_type": "code",
   "execution_count": null,
   "id": "0865e46c-422c-41b6-8381-f5c66655ac3d",
   "metadata": {},
   "outputs": [],
   "source": []
  },
  {
   "cell_type": "code",
   "execution_count": null,
   "id": "d5199dba-51d6-4082-b2c7-f605080a28e0",
   "metadata": {},
   "outputs": [],
   "source": []
  },
  {
   "cell_type": "code",
   "execution_count": null,
   "id": "50c445a9-55cc-427b-9994-7b178ea9729e",
   "metadata": {},
   "outputs": [],
   "source": []
  },
  {
   "cell_type": "code",
   "execution_count": null,
   "id": "b8bb8a28-5370-4561-840b-ae828fc73f03",
   "metadata": {},
   "outputs": [],
   "source": []
  },
  {
   "cell_type": "code",
   "execution_count": null,
   "id": "610beed3-7385-4147-b948-e8880a845d59",
   "metadata": {},
   "outputs": [],
   "source": []
  },
  {
   "cell_type": "code",
   "execution_count": null,
   "id": "04c9a9ba-42a8-435d-ad9f-24a6ba7e581c",
   "metadata": {},
   "outputs": [],
   "source": []
  },
  {
   "cell_type": "code",
   "execution_count": null,
   "id": "7ec36956-4bac-498d-96a2-17726cfbec86",
   "metadata": {},
   "outputs": [],
   "source": []
  }
 ],
 "metadata": {
  "kernelspec": {
   "display_name": "Python 3 (ipykernel)",
   "language": "python",
   "name": "python3"
  },
  "language_info": {
   "codemirror_mode": {
    "name": "ipython",
    "version": 3
   },
   "file_extension": ".py",
   "mimetype": "text/x-python",
   "name": "python",
   "nbconvert_exporter": "python",
   "pygments_lexer": "ipython3",
   "version": "3.9.13"
  }
 },
 "nbformat": 4,
 "nbformat_minor": 5
}
