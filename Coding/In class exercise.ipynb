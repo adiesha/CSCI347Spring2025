{
 "cells": [
  {
   "cell_type": "markdown",
   "id": "c9726ac6-6a40-4701-8c4c-fa1bb3b99935",
   "metadata": {},
   "source": [
    "Load the data from the following UCI repository:\n",
    "https://archive.ics.uci.edu/dataset/13/balloons\n",
    "\n",
    "Make sure that you load the dataset as a pandas dataframe.\n",
    "\n",
    "Note that you can directly load some datasets in UCI machine learning repository to python.\n",
    "\n",
    "Note that you may still have to convert the uci repo dataset into pandas dataframe depending on the dataset."
   ]
  },
  {
   "cell_type": "code",
   "execution_count": null,
   "id": "b5071f96-a03a-4f27-bbd8-baed7b2eb650",
   "metadata": {},
   "outputs": [],
   "source": [
    "!pip install ucimlrepo"
   ]
  },
  {
   "cell_type": "code",
   "execution_count": null,
   "id": "630e9e04-e900-429c-a9d9-566d7a3db052",
   "metadata": {},
   "outputs": [],
   "source": [
    "import ucimlrepo as ucimlrepo\n",
    "from ucimlrepo import fetch_ucirepo \n",
    "  \n",
    "# fetch dataset \n",
    "balloons = fetch_ucirepo(id=13) \n",
    "  \n",
    "# data (as pandas dataframes) \n",
    "X = balloons.data.features \n",
    "y = balloons.data.targets \n",
    "\n",
    "print(y)\n",
    "# metadata \n",
    "print(balloons.metadata) \n",
    "  \n",
    "# variable information \n",
    "print(balloons.variables) \n",
    "balloons.data.original\n"
   ]
  },
  {
   "cell_type": "markdown",
   "id": "f423ea09-b8ec-47e7-8a8e-212bdadf74c0",
   "metadata": {},
   "source": [
    "Check whether this dataset has any missing values in any of its features. If so fill them with the most frequent item in each column."
   ]
  },
  {
   "cell_type": "code",
   "execution_count": null,
   "id": "fc93dac3-7c1d-4ee3-9a06-ac586398b23d",
   "metadata": {},
   "outputs": [],
   "source": [
    "X.isnull().sum()\n"
   ]
  },
  {
   "cell_type": "markdown",
   "id": "5dcba0c8-d3a6-40c2-95be-90a3b63c0933",
   "metadata": {},
   "source": [
    "Now, one-hot encode the **color** attribute. Use pandas library. Then print the first 20 rows of the dataset."
   ]
  },
  {
   "cell_type": "code",
   "execution_count": null,
   "id": "373831ec-d1d0-4c41-bf81-b4f9d0d1ce63",
   "metadata": {},
   "outputs": [],
   "source": [
    "import pandas as pd\n",
    "df_encoded = pd.get_dummies(X, columns=['color'])\n",
    "df_encoded"
   ]
  },
  {
   "cell_type": "markdown",
   "id": "4a4a9864-1616-410a-9238-5f6a31297c5a",
   "metadata": {},
   "source": [
    "Perform one-hot encoding for all the other categorical attributes as well."
   ]
  },
  {
   "cell_type": "code",
   "execution_count": null,
   "id": "f71f179b-18da-416c-9eac-dc527aca6748",
   "metadata": {},
   "outputs": [],
   "source": []
  },
  {
   "cell_type": "markdown",
   "id": "735ffdac-0443-4d70-9366-6968a43e4ea9",
   "metadata": {},
   "source": [
    "Print first 20 rows of the dataset."
   ]
  },
  {
   "cell_type": "code",
   "execution_count": null,
   "id": "b5d2ef55-5669-4a15-95c4-ae10d68bd572",
   "metadata": {},
   "outputs": [],
   "source": []
  },
  {
   "cell_type": "markdown",
   "id": "0a186a5b-56a4-4b4b-800c-efc6321f65d3",
   "metadata": {},
   "source": [
    "calculate the norm 1, 2, 3 between row 0 and row 12."
   ]
  },
  {
   "cell_type": "code",
   "execution_count": null,
   "id": "49530a53-c1a2-4e0f-bd9d-da015b26fef9",
   "metadata": {},
   "outputs": [],
   "source": []
  },
  {
   "cell_type": "markdown",
   "id": "50dbf75f-93fc-4a63-8948-bc0e3fd4ded7",
   "metadata": {},
   "source": [
    "-------------------------------------------------------------------------------"
   ]
  },
  {
   "cell_type": "markdown",
   "id": "1a44d09b-abcd-4f72-828b-cf54d0a7e9fc",
   "metadata": {},
   "source": [
    "Use the following pandas dataframe to answer the following questions."
   ]
  },
  {
   "cell_type": "code",
   "execution_count": null,
   "id": "325dd3f9-ee68-46a3-b8aa-777b5b144a86",
   "metadata": {},
   "outputs": [],
   "source": [
    "\n",
    "data = {\n",
    "    'ID': [101, 102, 103, 104, 105, 106, 107, 108, 109, 110, 111],\n",
    "    'Name': ['Alice', 'Bob', 'Charlie', 'David', 'Eve', 'Alice', 'Bob', 'John', 'Peter', 'Potter', 'Peter'],\n",
    "    'Age': [25, 30, None, 40, None, 25, 30, 36, 42, 27, 42],\n",
    "    'City': ['NY', 'LA', 'SF', 'NY', 'LA', 'SF', 'NY', 'SC', 'IN', 'BZ', 'IN'],\n",
    "    'Product': ['A', 'B', 'C', 'A', 'B', 'C', 'A', 'B', 'A', 'C', 'A'],\n",
    "    'Sales': [200, 300, 400, 250, 350, 450, 200, 120, 130, 90, 130]\n",
    "}\n",
    "\n",
    "df = pd.DataFrame(data)\n",
    "print(df)"
   ]
  },
  {
   "cell_type": "markdown",
   "id": "5d1be6a2-ca71-471e-94ec-4d8c7d89c0e1",
   "metadata": {},
   "source": [
    "Is there any attribute with missing values? \n",
    "\n",
    "If so what are them?"
   ]
  },
  {
   "cell_type": "code",
   "execution_count": null,
   "id": "13fccc4b-2bce-4af7-bbe2-c168d7807a91",
   "metadata": {},
   "outputs": [],
   "source": []
  },
  {
   "cell_type": "markdown",
   "id": "78cce503-5255-45b7-a41b-8d6536c03ac1",
   "metadata": {},
   "source": [
    "Use forward filling to fill the missing data values, if there exists missing values."
   ]
  },
  {
   "cell_type": "code",
   "execution_count": null,
   "id": "30678a17-20e7-44c8-ae29-77e666cf28bb",
   "metadata": {},
   "outputs": [],
   "source": []
  },
  {
   "cell_type": "markdown",
   "id": "edf68bdb-c63e-4035-904a-8ae316df5623",
   "metadata": {},
   "source": [
    "One-Hot encode the attributes 'City' and 'Product'."
   ]
  },
  {
   "cell_type": "code",
   "execution_count": null,
   "id": "aa87b4b8-e9f8-46a2-b97e-ea9c8b589e5b",
   "metadata": {},
   "outputs": [],
   "source": []
  },
  {
   "cell_type": "markdown",
   "id": "609c903c-a155-4bb5-85ed-61951e005bfb",
   "metadata": {},
   "source": [
    "Drop duplicate rows based on the 'Name' column"
   ]
  },
  {
   "cell_type": "code",
   "execution_count": null,
   "id": "ef47eac1-baf8-4085-922f-aefe889d6b58",
   "metadata": {},
   "outputs": [],
   "source": []
  },
  {
   "cell_type": "markdown",
   "id": "8f964ace-8643-49a2-a4b7-ce4bf5776a65",
   "metadata": {},
   "source": [
    "Create a pivot table to summarize total sales by product and city"
   ]
  },
  {
   "cell_type": "code",
   "execution_count": null,
   "id": "e592ae82-73ad-4263-a7bc-0c63e0b360eb",
   "metadata": {},
   "outputs": [],
   "source": []
  },
  {
   "cell_type": "markdown",
   "id": "7cd3068d-a7e3-4033-9b22-fc1ea4d67945",
   "metadata": {},
   "source": [
    "Create a pivot table to summarize minimum and maximum sales by product and city"
   ]
  },
  {
   "cell_type": "code",
   "execution_count": null,
   "id": "a6d53021-a186-415d-be9f-e3b37a79fa48",
   "metadata": {},
   "outputs": [],
   "source": []
  }
 ],
 "metadata": {
  "kernelspec": {
   "display_name": "Python 3 (ipykernel)",
   "language": "python",
   "name": "python3"
  },
  "language_info": {
   "codemirror_mode": {
    "name": "ipython",
    "version": 3
   },
   "file_extension": ".py",
   "mimetype": "text/x-python",
   "name": "python",
   "nbconvert_exporter": "python",
   "pygments_lexer": "ipython3",
   "version": "3.12.8"
  }
 },
 "nbformat": 4,
 "nbformat_minor": 5
}
