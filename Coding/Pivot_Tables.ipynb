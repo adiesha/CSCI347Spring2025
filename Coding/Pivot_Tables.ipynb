{
 "cells": [
  {
   "cell_type": "markdown",
   "id": "015299e4-cd09-4102-a1b9-f42be4667272",
   "metadata": {},
   "source": [
    "## Pivot Tables\n",
    "\n",
    "This is one of the most powerful tools in pandas to analyze data since it allows you to calculate summary statistics as pivot tables.\n",
    "\n",
    "Let us try to learn this tool using the following dataset.\n",
    "\n",
    "https://github.com/plotly/datasets/blob/master/diabetes.csv"
   ]
  },
  {
   "cell_type": "code",
   "execution_count": null,
   "id": "c9e9aa29-67ca-48b0-a65f-f93d07f70cc0",
   "metadata": {},
   "outputs": [],
   "source": [
    "import pandas as pd\n",
    "import numpy as np\n",
    "D = pd.read_csv(\"https://raw.githubusercontent.com/plotly/datasets/refs/heads/master/diabetes.csv\")\n",
    "D.info()\n",
    "D.describe()"
   ]
  },
  {
   "cell_type": "code",
   "execution_count": null,
   "id": "6577d64f-6b85-44cc-82b0-fd1deee8bc79",
   "metadata": {},
   "outputs": [],
   "source": [
    "D.head()"
   ]
  },
  {
   "cell_type": "markdown",
   "id": "a16aba19-0a21-4405-9265-a8e2041a7330",
   "metadata": {},
   "source": [
    "#### Fundamentals of a Pandas pivot table.\n",
    "\n",
    "A pivot table in pandas is a powerful tool for summarizing, analyzing, and transforming data. It allows you to reshape data by organizing it into a two-dimensional table, grouping data by specified rows and columns, and applying an aggregation function to get summary statistics.\n",
    "\n",
    "##### Key Ideas:\n",
    "- Rows(index): The column(s) used to group the data vertically (usually corresponds to categorical variables).\n",
    "- Columns: The column(s) used to group the data horizontally.\n",
    "- Values: The data to be aggregated, which will fill the cells of the pivot table.\n",
    "- Aggregation function: The function applied to the values (e.g., sum(), mean(), count(), etc.) to summarize the data.\n"
   ]
  },
  {
   "cell_type": "code",
   "execution_count": null,
   "id": "db430567-21f1-4e41-95f7-39bc570e9dfe",
   "metadata": {},
   "outputs": [],
   "source": [
    "pd.pivot_table(D, values=\"BMI\", index='Pregnancies', \n",
    "               columns=['Outcome'], aggfunc='mean')"
   ]
  },
  {
   "cell_type": "code",
   "execution_count": null,
   "id": "f318a227-2b65-44a9-b207-01967c0cc90f",
   "metadata": {},
   "outputs": [],
   "source": [
    "pd.pivot_table(D, values=\"BMI\", index='Outcome', \n",
    "               columns=['Pregnancies'], aggfunc='mean')"
   ]
  },
  {
   "cell_type": "code",
   "execution_count": null,
   "id": "98faa6e4-6d1b-4eaf-ab41-20979fda687b",
   "metadata": {},
   "outputs": [],
   "source": [
    "pd.pivot_table(D, values=[\"BMI\", \"SkinThickness\"], index=['Outcome', 'Age'], \n",
    "               columns=['Pregnancies', 'Insulin'], aggfunc='mean').head()"
   ]
  }
 ],
 "metadata": {
  "kernelspec": {
   "display_name": "Python 3 (ipykernel)",
   "language": "python",
   "name": "python3"
  },
  "language_info": {
   "codemirror_mode": {
    "name": "ipython",
    "version": 3
   },
   "file_extension": ".py",
   "mimetype": "text/x-python",
   "name": "python",
   "nbconvert_exporter": "python",
   "pygments_lexer": "ipython3",
   "version": "3.9.13"
  }
 },
 "nbformat": 4,
 "nbformat_minor": 5
}
