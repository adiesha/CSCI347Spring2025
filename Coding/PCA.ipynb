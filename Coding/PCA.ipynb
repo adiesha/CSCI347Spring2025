{
 "cells": [
  {
   "cell_type": "markdown",
   "id": "dc6ce2f7-1909-4696-990a-08b8a3691678",
   "metadata": {},
   "source": [
    "**Today Let's try to implement PCA**"
   ]
  },
  {
   "cell_type": "markdown",
   "id": "43349b8b-3732-45a2-9b56-46fcefb1c3b2",
   "metadata": {},
   "source": [
    "We will start off by loading a simple data set and then performing some simple approaches to selecting features"
   ]
  },
  {
   "cell_type": "code",
   "execution_count": 1,
   "id": "0e8af660-8c53-47cd-9c5d-f705e75c6161",
   "metadata": {},
   "outputs": [],
   "source": [
    "from sklearn.datasets import load_linnerud\n",
    "linnerud_data = load_linnerud()\n",
    "        \n",
    "D = linnerud_data['data']"
   ]
  },
  {
   "cell_type": "markdown",
   "id": "49ca720b-4f48-4b2f-9919-54cc2e0397c7",
   "metadata": {},
   "source": [
    "**Info about the features**"
   ]
  },
  {
   "cell_type": "code",
   "execution_count": 2,
   "id": "7ce5bbeb-b4df-4466-963e-700501923c2f",
   "metadata": {},
   "outputs": [
    {
     "data": {
      "text/plain": [
       "['Chins', 'Situps', 'Jumps']"
      ]
     },
     "execution_count": 2,
     "metadata": {},
     "output_type": "execute_result"
    }
   ],
   "source": [
    "linnerud_data['feature_names']"
   ]
  },
  {
   "cell_type": "markdown",
   "id": "7363f511-3e02-4684-9c59-61ba6206c5b3",
   "metadata": {},
   "source": [
    "This dataset is generally used for linear regression, but it is fine for this exersice."
   ]
  },
  {
   "cell_type": "code",
   "execution_count": 3,
   "id": "24de8324-698a-458e-a004-01cfe4d94d26",
   "metadata": {},
   "outputs": [
    {
     "data": {
      "text/plain": [
       "(20, 3)"
      ]
     },
     "execution_count": 3,
     "metadata": {},
     "output_type": "execute_result"
    }
   ],
   "source": [
    "D = linnerud_data['data']\n",
    "D.shape"
   ]
  },
  {
   "cell_type": "code",
   "execution_count": 4,
   "id": "577e5d1a-8e43-43c3-8afa-86b5a2371b00",
   "metadata": {},
   "outputs": [
    {
     "data": {
      "text/plain": [
       "array([[  5., 162.,  60.],\n",
       "       [  2., 110.,  60.],\n",
       "       [ 12., 101., 101.],\n",
       "       [ 12., 105.,  37.],\n",
       "       [ 13., 155.,  58.],\n",
       "       [  4., 101.,  42.],\n",
       "       [  8., 101.,  38.],\n",
       "       [  6., 125.,  40.],\n",
       "       [ 15., 200.,  40.],\n",
       "       [ 17., 251., 250.],\n",
       "       [ 17., 120.,  38.],\n",
       "       [ 13., 210., 115.],\n",
       "       [ 14., 215., 105.],\n",
       "       [  1.,  50.,  50.],\n",
       "       [  6.,  70.,  31.],\n",
       "       [ 12., 210., 120.],\n",
       "       [  4.,  60.,  25.],\n",
       "       [ 11., 230.,  80.],\n",
       "       [ 15., 225.,  73.],\n",
       "       [  2., 110.,  43.]])"
      ]
     },
     "execution_count": 4,
     "metadata": {},
     "output_type": "execute_result"
    }
   ],
   "source": [
    "D"
   ]
  },
  {
   "cell_type": "markdown",
   "id": "f1cfd09f-13f9-4588-afa2-fcf8e8820d11",
   "metadata": {},
   "source": [
    "We saw that one way we can quantify the useful featuers of our data is by variance. So, let's look at the estimated covariance matrix."
   ]
  },
  {
   "cell_type": "code",
   "execution_count": 5,
   "id": "4ed9832e-dc7d-49d5-b816-0b147421c12f",
   "metadata": {},
   "outputs": [
    {
     "data": {
      "text/plain": [
       "array([[  27.94473684,  230.10789474,  134.38421053],\n",
       "       [ 230.10789474, 3914.57631579, 2146.98421053],\n",
       "       [ 134.38421053, 2146.98421053, 2629.37894737]])"
      ]
     },
     "execution_count": 5,
     "metadata": {},
     "output_type": "execute_result"
    }
   ],
   "source": [
    "import numpy as np\n",
    "np.cov(D.T, ddof=1) # np.cov requires attributes to be in rows."
   ]
  },
  {
   "cell_type": "markdown",
   "id": "0252e04a-5a86-4f16-bb8d-478544d58d30",
   "metadata": {},
   "source": [
    "Okay! so let us try to keep only the meaningfull attributes. (This is one way of selecting the features).\n",
    "\n",
    "How about selecting 100 as the variance threshold."
   ]
  },
  {
   "cell_type": "code",
   "execution_count": 6,
   "id": "40494b15-42e5-4d75-bbba-5b3376e41f20",
   "metadata": {},
   "outputs": [
    {
     "data": {
      "text/plain": [
       "array([[162.,  60.],\n",
       "       [110.,  60.],\n",
       "       [101., 101.],\n",
       "       [105.,  37.],\n",
       "       [155.,  58.],\n",
       "       [101.,  42.],\n",
       "       [101.,  38.],\n",
       "       [125.,  40.],\n",
       "       [200.,  40.],\n",
       "       [251., 250.],\n",
       "       [120.,  38.],\n",
       "       [210., 115.],\n",
       "       [215., 105.],\n",
       "       [ 50.,  50.],\n",
       "       [ 70.,  31.],\n",
       "       [210., 120.],\n",
       "       [ 60.,  25.],\n",
       "       [230.,  80.],\n",
       "       [225.,  73.],\n",
       "       [110.,  43.]])"
      ]
     },
     "execution_count": 6,
     "metadata": {},
     "output_type": "execute_result"
    }
   ],
   "source": [
    "from sklearn.feature_selection import VarianceThreshold\n",
    "\n",
    "threshold = 100\n",
    "feature_selector = VarianceThreshold(threshold=threshold)\n",
    "feature_selector.fit_transform(D)"
   ]
  },
  {
   "cell_type": "markdown",
   "id": "39e6cd7b-ac7d-49f4-b2d9-30a58a6fd020",
   "metadata": {},
   "source": [
    "But we did not range normalize the data, maybe if we did that first we may have selected some other set of features.\n",
    "\n",
    "**Let's try to min-max scale our data. you can something like following.**"
   ]
  },
  {
   "cell_type": "code",
   "execution_count": 7,
   "id": "d2b63fab-d12f-47e9-80cc-1e1c875919c5",
   "metadata": {},
   "outputs": [
    {
     "data": {
      "text/plain": [
       "array([[0.25      , 0.55721393, 0.15555556],\n",
       "       [0.0625    , 0.29850746, 0.15555556],\n",
       "       [0.6875    , 0.25373134, 0.33777778],\n",
       "       [0.6875    , 0.27363184, 0.05333333],\n",
       "       [0.75      , 0.52238806, 0.14666667],\n",
       "       [0.1875    , 0.25373134, 0.07555556],\n",
       "       [0.4375    , 0.25373134, 0.05777778],\n",
       "       [0.3125    , 0.37313433, 0.06666667],\n",
       "       [0.875     , 0.74626866, 0.06666667],\n",
       "       [1.        , 1.        , 1.        ],\n",
       "       [1.        , 0.34825871, 0.05777778],\n",
       "       [0.75      , 0.7960199 , 0.4       ],\n",
       "       [0.8125    , 0.82089552, 0.35555556],\n",
       "       [0.        , 0.        , 0.11111111],\n",
       "       [0.3125    , 0.09950249, 0.02666667],\n",
       "       [0.6875    , 0.7960199 , 0.42222222],\n",
       "       [0.1875    , 0.04975124, 0.        ],\n",
       "       [0.625     , 0.89552239, 0.24444444],\n",
       "       [0.875     , 0.87064677, 0.21333333],\n",
       "       [0.0625    , 0.29850746, 0.08      ]])"
      ]
     },
     "execution_count": 7,
     "metadata": {},
     "output_type": "execute_result"
    }
   ],
   "source": [
    "from sklearn.preprocessing import MinMaxScaler\n",
    "D_normalized = MinMaxScaler().fit_transform(D)\n",
    "D_normalized"
   ]
  },
  {
   "cell_type": "markdown",
   "id": "d70cc391-87a2-4f26-9b6c-64bc4e2569b3",
   "metadata": {},
   "source": [
    "Now let's try to calculate the covariance matrix again."
   ]
  },
  {
   "cell_type": "code",
   "execution_count": 8,
   "id": "ae0c28fd-b0d2-4c47-8aaf-6592b000e668",
   "metadata": {},
   "outputs": [
    {
     "data": {
      "text/plain": [
       "array([[0.10915913, 0.07155096, 0.03732895],\n",
       "       [0.07155096, 0.09689306, 0.04747339],\n",
       "       [0.03732895, 0.04747339, 0.05193835]])"
      ]
     },
     "execution_count": 8,
     "metadata": {},
     "output_type": "execute_result"
    }
   ],
   "source": [
    "import numpy as np\n",
    "np.cov(D_normalized.T, ddof=1)"
   ]
  },
  {
   "cell_type": "markdown",
   "id": "8a1abe95-ccab-4f80-b907-00bfb16c528a",
   "metadata": {},
   "source": [
    "Let's try Variance threshold with 0.6 threshold"
   ]
  },
  {
   "cell_type": "code",
   "execution_count": 9,
   "id": "f2052908-086d-45b2-a326-4d2949e0c94c",
   "metadata": {},
   "outputs": [
    {
     "data": {
      "text/plain": [
       "array([[0.25      , 0.55721393],\n",
       "       [0.0625    , 0.29850746],\n",
       "       [0.6875    , 0.25373134],\n",
       "       [0.6875    , 0.27363184],\n",
       "       [0.75      , 0.52238806],\n",
       "       [0.1875    , 0.25373134],\n",
       "       [0.4375    , 0.25373134],\n",
       "       [0.3125    , 0.37313433],\n",
       "       [0.875     , 0.74626866],\n",
       "       [1.        , 1.        ],\n",
       "       [1.        , 0.34825871],\n",
       "       [0.75      , 0.7960199 ],\n",
       "       [0.8125    , 0.82089552],\n",
       "       [0.        , 0.        ],\n",
       "       [0.3125    , 0.09950249],\n",
       "       [0.6875    , 0.7960199 ],\n",
       "       [0.1875    , 0.04975124],\n",
       "       [0.625     , 0.89552239],\n",
       "       [0.875     , 0.87064677],\n",
       "       [0.0625    , 0.29850746]])"
      ]
     },
     "execution_count": 9,
     "metadata": {},
     "output_type": "execute_result"
    }
   ],
   "source": [
    "threshold = .06\n",
    "feature_selector = VarianceThreshold(threshold=threshold)\n",
    "feature_selector.fit_transform(D_normalized)"
   ]
  },
  {
   "cell_type": "markdown",
   "id": "a8877ce8-ddc9-4c79-ab52-251628ab36c2",
   "metadata": {},
   "source": [
    "**Point of this exercise was for you to understand that when dealing with variance scale of the data matters.**"
   ]
  },
  {
   "cell_type": "code",
   "execution_count": 10,
   "id": "9fd5c390-4bf3-48fe-bda9-f5e742eb062c",
   "metadata": {},
   "outputs": [
    {
     "data": {
      "text/plain": [
       "Text(0, 0.5, 'X2 of the range normalized')"
      ]
     },
     "execution_count": 10,
     "metadata": {},
     "output_type": "execute_result"
    },
    {
     "data": {
      "image/png": "[encoded data removed]",
      "text/plain": [
       "<Figure size 640x480 with 1 Axes>"
      ]
     },
     "metadata": {},
     "output_type": "display_data"
    }
   ],
   "source": [
    "import matplotlib.pyplot as plt\n",
    "plt.scatter(D[:,0], D[:,1])\n",
    "# plt.scatter(D_normalized[:, 0], D_normalized[:, 1], color='r')\n",
    "plt.xlabel('X1 of the range normalized')\n",
    "plt.ylabel('X2 of the range normalized')"
   ]
  },
  {
   "cell_type": "code",
   "execution_count": 11,
   "id": "4c3d8d2d-52ad-4729-bd1f-51cd00f55914",
   "metadata": {},
   "outputs": [
    {
     "data": {
      "text/plain": [
       "Text(0, 0.5, 'X2 of the range normalized')"
      ]
     },
     "execution_count": 11,
     "metadata": {},
     "output_type": "execute_result"
    },
    {
     "data": {
      "image/png": "[encoded data removed]",
      "text/plain": [
       "<Figure size 640x480 with 1 Axes>"
      ]
     },
     "metadata": {},
     "output_type": "display_data"
    }
   ],
   "source": [
    "import matplotlib.pyplot as plt\n",
    "# plt.scatter(D[:,0], D[:,1])\n",
    "plt.scatter(D_normalized[:, 0], D_normalized[:, 1], color='r')\n",
    "plt.xlabel('X1 of the range normalized')\n",
    "plt.ylabel('X2 of the range normalized')"
   ]
  },
  {
   "cell_type": "markdown",
   "id": "6a743d24-d3bc-4b7c-934b-f1ed2c5547ac",
   "metadata": {},
   "source": [
    "**PCA algorithm**\n",
    "\n",
    "We are going to code PCA algorithm."
   ]
  },
  {
   "attachments": {
    "ab564851-8f0d-4730-974d-fb1d965acc35.png": {
     "image/png": "[encoded data removed]"
    }
   },
   "cell_type": "markdown",
   "id": "41ce4459-0c13-4a2d-9da9-453bf6578c3c",
   "metadata": {},
   "source": [
    "![image.png](attachment:ab564851-8f0d-4730-974d-fb1d965acc35.png)"
   ]
  },
  {
   "cell_type": "code",
   "execution_count": 12,
   "id": "7d8f4e65-f5cf-4b81-bb6d-df304d24d216",
   "metadata": {},
   "outputs": [],
   "source": [
    "from sklearn.datasets import load_iris\n",
    "D_iris = load_iris()['data']"
   ]
  },
  {
   "cell_type": "code",
   "execution_count": 13,
   "id": "333b435d-7b73-4af6-ac9a-dccfc5481389",
   "metadata": {},
   "outputs": [
    {
     "data": {
      "text/plain": [
       "(150, 4)"
      ]
     },
     "execution_count": 13,
     "metadata": {},
     "output_type": "execute_result"
    }
   ],
   "source": [
    "D_iris.shape"
   ]
  },
  {
   "cell_type": "code",
   "execution_count": 14,
   "id": "26ec4084-8dff-4269-8b78-550baae7aed4",
   "metadata": {},
   "outputs": [
    {
     "data": {
      "text/plain": [
       "array([[3.5, 1.4],\n",
       "       [3. , 1.4],\n",
       "       [3.2, 1.3],\n",
       "       [3.1, 1.5],\n",
       "       [3.6, 1.4],\n",
       "       [3.9, 1.7],\n",
       "       [3.4, 1.4],\n",
       "       [3.4, 1.5],\n",
       "       [2.9, 1.4],\n",
       "       [3.1, 1.5],\n",
       "       [3.7, 1.5],\n",
       "       [3.4, 1.6],\n",
       "       [3. , 1.4],\n",
       "       [3. , 1.1],\n",
       "       [4. , 1.2],\n",
       "       [4.4, 1.5],\n",
       "       [3.9, 1.3],\n",
       "       [3.5, 1.4],\n",
       "       [3.8, 1.7],\n",
       "       [3.8, 1.5],\n",
       "       [3.4, 1.7],\n",
       "       [3.7, 1.5],\n",
       "       [3.6, 1. ],\n",
       "       [3.3, 1.7],\n",
       "       [3.4, 1.9],\n",
       "       [3. , 1.6],\n",
       "       [3.4, 1.6],\n",
       "       [3.5, 1.5],\n",
       "       [3.4, 1.4],\n",
       "       [3.2, 1.6],\n",
       "       [3.1, 1.6],\n",
       "       [3.4, 1.5],\n",
       "       [4.1, 1.5],\n",
       "       [4.2, 1.4],\n",
       "       [3.1, 1.5],\n",
       "       [3.2, 1.2],\n",
       "       [3.5, 1.3],\n",
       "       [3.6, 1.4],\n",
       "       [3. , 1.3],\n",
       "       [3.4, 1.5],\n",
       "       [3.5, 1.3],\n",
       "       [2.3, 1.3],\n",
       "       [3.2, 1.3],\n",
       "       [3.5, 1.6],\n",
       "       [3.8, 1.9],\n",
       "       [3. , 1.4],\n",
       "       [3.8, 1.6],\n",
       "       [3.2, 1.4],\n",
       "       [3.7, 1.5],\n",
       "       [3.3, 1.4],\n",
       "       [3.2, 4.7],\n",
       "       [3.2, 4.5],\n",
       "       [3.1, 4.9],\n",
       "       [2.3, 4. ],\n",
       "       [2.8, 4.6],\n",
       "       [2.8, 4.5],\n",
       "       [3.3, 4.7],\n",
       "       [2.4, 3.3],\n",
       "       [2.9, 4.6],\n",
       "       [2.7, 3.9],\n",
       "       [2. , 3.5],\n",
       "       [3. , 4.2],\n",
       "       [2.2, 4. ],\n",
       "       [2.9, 4.7],\n",
       "       [2.9, 3.6],\n",
       "       [3.1, 4.4],\n",
       "       [3. , 4.5],\n",
       "       [2.7, 4.1],\n",
       "       [2.2, 4.5],\n",
       "       [2.5, 3.9],\n",
       "       [3.2, 4.8],\n",
       "       [2.8, 4. ],\n",
       "       [2.5, 4.9],\n",
       "       [2.8, 4.7],\n",
       "       [2.9, 4.3],\n",
       "       [3. , 4.4],\n",
       "       [2.8, 4.8],\n",
       "       [3. , 5. ],\n",
       "       [2.9, 4.5],\n",
       "       [2.6, 3.5],\n",
       "       [2.4, 3.8],\n",
       "       [2.4, 3.7],\n",
       "       [2.7, 3.9],\n",
       "       [2.7, 5.1],\n",
       "       [3. , 4.5],\n",
       "       [3.4, 4.5],\n",
       "       [3.1, 4.7],\n",
       "       [2.3, 4.4],\n",
       "       [3. , 4.1],\n",
       "       [2.5, 4. ],\n",
       "       [2.6, 4.4],\n",
       "       [3. , 4.6],\n",
       "       [2.6, 4. ],\n",
       "       [2.3, 3.3],\n",
       "       [2.7, 4.2],\n",
       "       [3. , 4.2],\n",
       "       [2.9, 4.2],\n",
       "       [2.9, 4.3],\n",
       "       [2.5, 3. ],\n",
       "       [2.8, 4.1],\n",
       "       [3.3, 6. ],\n",
       "       [2.7, 5.1],\n",
       "       [3. , 5.9],\n",
       "       [2.9, 5.6],\n",
       "       [3. , 5.8],\n",
       "       [3. , 6.6],\n",
       "       [2.5, 4.5],\n",
       "       [2.9, 6.3],\n",
       "       [2.5, 5.8],\n",
       "       [3.6, 6.1],\n",
       "       [3.2, 5.1],\n",
       "       [2.7, 5.3],\n",
       "       [3. , 5.5],\n",
       "       [2.5, 5. ],\n",
       "       [2.8, 5.1],\n",
       "       [3.2, 5.3],\n",
       "       [3. , 5.5],\n",
       "       [3.8, 6.7],\n",
       "       [2.6, 6.9],\n",
       "       [2.2, 5. ],\n",
       "       [3.2, 5.7],\n",
       "       [2.8, 4.9],\n",
       "       [2.8, 6.7],\n",
       "       [2.7, 4.9],\n",
       "       [3.3, 5.7],\n",
       "       [3.2, 6. ],\n",
       "       [2.8, 4.8],\n",
       "       [3. , 4.9],\n",
       "       [2.8, 5.6],\n",
       "       [3. , 5.8],\n",
       "       [2.8, 6.1],\n",
       "       [3.8, 6.4],\n",
       "       [2.8, 5.6],\n",
       "       [2.8, 5.1],\n",
       "       [2.6, 5.6],\n",
       "       [3. , 6.1],\n",
       "       [3.4, 5.6],\n",
       "       [3.1, 5.5],\n",
       "       [3. , 4.8],\n",
       "       [3.1, 5.4],\n",
       "       [3.1, 5.6],\n",
       "       [3.1, 5.1],\n",
       "       [2.7, 5.1],\n",
       "       [3.2, 5.9],\n",
       "       [3.3, 5.7],\n",
       "       [3. , 5.2],\n",
       "       [2.5, 5. ],\n",
       "       [3. , 5.2],\n",
       "       [3.4, 5.4],\n",
       "       [3. , 5.1]])"
      ]
     },
     "execution_count": 14,
     "metadata": {},
     "output_type": "execute_result"
    }
   ],
   "source": [
    "D = D_iris[:, 1:3]\n",
    "D"
   ]
  },
  {
   "cell_type": "code",
   "execution_count": 15,
   "id": "a06fae72-5327-439e-a555-bc23f20165ea",
   "metadata": {},
   "outputs": [
    {
     "data": {
      "text/plain": [
       "Text(0.5, 1.0, 'Scatter plot of data matrix D_iris')"
      ]
     },
     "execution_count": 15,
     "metadata": {},
     "output_type": "execute_result"
    },
    {
     "data": {
      "image/png": "[encoded data removed]",
      "text/plain": [
       "<Figure size 640x480 with 1 Axes>"
      ]
     },
     "metadata": {},
     "output_type": "display_data"
    }
   ],
   "source": [
    "import matplotlib.pyplot as plt\n",
    "plt.scatter(D[:,0], D[:,1])\n",
    "plt.xlabel('X1')\n",
    "plt.ylabel('X2')\n",
    "plt.title('Scatter plot of data matrix D_iris')"
   ]
  },
  {
   "cell_type": "markdown",
   "id": "affb7191-b3ed-4d5b-9890-3cf21a305b05",
   "metadata": {},
   "source": [
    "**Let's do some mean centering**"
   ]
  },
  {
   "cell_type": "markdown",
   "id": "bb8d6726-37d3-451b-8b77-5d7c41c68d94",
   "metadata": {},
   "source": [
    "**Calculate the mult-dimensional mean**"
   ]
  },
  {
   "cell_type": "code",
   "execution_count": 16,
   "id": "37c6844d-e66d-4bc9-92e7-6263d253a9ce",
   "metadata": {},
   "outputs": [
    {
     "data": {
      "text/plain": [
       "array([3.05733333, 3.758     ])"
      ]
     },
     "execution_count": 16,
     "metadata": {},
     "output_type": "execute_result"
    }
   ],
   "source": [
    "multi_d_mean = np.mean(D, axis=0)\n",
    "multi_d_mean"
   ]
  },
  {
   "cell_type": "markdown",
   "id": "1bd2340c-b390-4da2-b7bb-580e80e63b50",
   "metadata": {},
   "source": [
    "**Do the mean centering**"
   ]
  },
  {
   "cell_type": "code",
   "execution_count": 17,
   "id": "8d36800a-2112-4a0a-a83d-3df8029ded5f",
   "metadata": {},
   "outputs": [
    {
     "data": {
      "text/plain": [
       "array([[ 0.44266667, -2.358     ],\n",
       "       [-0.05733333, -2.358     ],\n",
       "       [ 0.14266667, -2.458     ],\n",
       "       [ 0.04266667, -2.258     ],\n",
       "       [ 0.54266667, -2.358     ],\n",
       "       [ 0.84266667, -2.058     ],\n",
       "       [ 0.34266667, -2.358     ],\n",
       "       [ 0.34266667, -2.258     ],\n",
       "       [-0.15733333, -2.358     ],\n",
       "       [ 0.04266667, -2.258     ],\n",
       "       [ 0.64266667, -2.258     ],\n",
       "       [ 0.34266667, -2.158     ],\n",
       "       [-0.05733333, -2.358     ],\n",
       "       [-0.05733333, -2.658     ],\n",
       "       [ 0.94266667, -2.558     ],\n",
       "       [ 1.34266667, -2.258     ],\n",
       "       [ 0.84266667, -2.458     ],\n",
       "       [ 0.44266667, -2.358     ],\n",
       "       [ 0.74266667, -2.058     ],\n",
       "       [ 0.74266667, -2.258     ],\n",
       "       [ 0.34266667, -2.058     ],\n",
       "       [ 0.64266667, -2.258     ],\n",
       "       [ 0.54266667, -2.758     ],\n",
       "       [ 0.24266667, -2.058     ],\n",
       "       [ 0.34266667, -1.858     ],\n",
       "       [-0.05733333, -2.158     ],\n",
       "       [ 0.34266667, -2.158     ],\n",
       "       [ 0.44266667, -2.258     ],\n",
       "       [ 0.34266667, -2.358     ],\n",
       "       [ 0.14266667, -2.158     ],\n",
       "       [ 0.04266667, -2.158     ],\n",
       "       [ 0.34266667, -2.258     ],\n",
       "       [ 1.04266667, -2.258     ],\n",
       "       [ 1.14266667, -2.358     ],\n",
       "       [ 0.04266667, -2.258     ],\n",
       "       [ 0.14266667, -2.558     ],\n",
       "       [ 0.44266667, -2.458     ],\n",
       "       [ 0.54266667, -2.358     ],\n",
       "       [-0.05733333, -2.458     ],\n",
       "       [ 0.34266667, -2.258     ],\n",
       "       [ 0.44266667, -2.458     ],\n",
       "       [-0.75733333, -2.458     ],\n",
       "       [ 0.14266667, -2.458     ],\n",
       "       [ 0.44266667, -2.158     ],\n",
       "       [ 0.74266667, -1.858     ],\n",
       "       [-0.05733333, -2.358     ],\n",
       "       [ 0.74266667, -2.158     ],\n",
       "       [ 0.14266667, -2.358     ],\n",
       "       [ 0.64266667, -2.258     ],\n",
       "       [ 0.24266667, -2.358     ],\n",
       "       [ 0.14266667,  0.942     ],\n",
       "       [ 0.14266667,  0.742     ],\n",
       "       [ 0.04266667,  1.142     ],\n",
       "       [-0.75733333,  0.242     ],\n",
       "       [-0.25733333,  0.842     ],\n",
       "       [-0.25733333,  0.742     ],\n",
       "       [ 0.24266667,  0.942     ],\n",
       "       [-0.65733333, -0.458     ],\n",
       "       [-0.15733333,  0.842     ],\n",
       "       [-0.35733333,  0.142     ],\n",
       "       [-1.05733333, -0.258     ],\n",
       "       [-0.05733333,  0.442     ],\n",
       "       [-0.85733333,  0.242     ],\n",
       "       [-0.15733333,  0.942     ],\n",
       "       [-0.15733333, -0.158     ],\n",
       "       [ 0.04266667,  0.642     ],\n",
       "       [-0.05733333,  0.742     ],\n",
       "       [-0.35733333,  0.342     ],\n",
       "       [-0.85733333,  0.742     ],\n",
       "       [-0.55733333,  0.142     ],\n",
       "       [ 0.14266667,  1.042     ],\n",
       "       [-0.25733333,  0.242     ],\n",
       "       [-0.55733333,  1.142     ],\n",
       "       [-0.25733333,  0.942     ],\n",
       "       [-0.15733333,  0.542     ],\n",
       "       [-0.05733333,  0.642     ],\n",
       "       [-0.25733333,  1.042     ],\n",
       "       [-0.05733333,  1.242     ],\n",
       "       [-0.15733333,  0.742     ],\n",
       "       [-0.45733333, -0.258     ],\n",
       "       [-0.65733333,  0.042     ],\n",
       "       [-0.65733333, -0.058     ],\n",
       "       [-0.35733333,  0.142     ],\n",
       "       [-0.35733333,  1.342     ],\n",
       "       [-0.05733333,  0.742     ],\n",
       "       [ 0.34266667,  0.742     ],\n",
       "       [ 0.04266667,  0.942     ],\n",
       "       [-0.75733333,  0.642     ],\n",
       "       [-0.05733333,  0.342     ],\n",
       "       [-0.55733333,  0.242     ],\n",
       "       [-0.45733333,  0.642     ],\n",
       "       [-0.05733333,  0.842     ],\n",
       "       [-0.45733333,  0.242     ],\n",
       "       [-0.75733333, -0.458     ],\n",
       "       [-0.35733333,  0.442     ],\n",
       "       [-0.05733333,  0.442     ],\n",
       "       [-0.15733333,  0.442     ],\n",
       "       [-0.15733333,  0.542     ],\n",
       "       [-0.55733333, -0.758     ],\n",
       "       [-0.25733333,  0.342     ],\n",
       "       [ 0.24266667,  2.242     ],\n",
       "       [-0.35733333,  1.342     ],\n",
       "       [-0.05733333,  2.142     ],\n",
       "       [-0.15733333,  1.842     ],\n",
       "       [-0.05733333,  2.042     ],\n",
       "       [-0.05733333,  2.842     ],\n",
       "       [-0.55733333,  0.742     ],\n",
       "       [-0.15733333,  2.542     ],\n",
       "       [-0.55733333,  2.042     ],\n",
       "       [ 0.54266667,  2.342     ],\n",
       "       [ 0.14266667,  1.342     ],\n",
       "       [-0.35733333,  1.542     ],\n",
       "       [-0.05733333,  1.742     ],\n",
       "       [-0.55733333,  1.242     ],\n",
       "       [-0.25733333,  1.342     ],\n",
       "       [ 0.14266667,  1.542     ],\n",
       "       [-0.05733333,  1.742     ],\n",
       "       [ 0.74266667,  2.942     ],\n",
       "       [-0.45733333,  3.142     ],\n",
       "       [-0.85733333,  1.242     ],\n",
       "       [ 0.14266667,  1.942     ],\n",
       "       [-0.25733333,  1.142     ],\n",
       "       [-0.25733333,  2.942     ],\n",
       "       [-0.35733333,  1.142     ],\n",
       "       [ 0.24266667,  1.942     ],\n",
       "       [ 0.14266667,  2.242     ],\n",
       "       [-0.25733333,  1.042     ],\n",
       "       [-0.05733333,  1.142     ],\n",
       "       [-0.25733333,  1.842     ],\n",
       "       [-0.05733333,  2.042     ],\n",
       "       [-0.25733333,  2.342     ],\n",
       "       [ 0.74266667,  2.642     ],\n",
       "       [-0.25733333,  1.842     ],\n",
       "       [-0.25733333,  1.342     ],\n",
       "       [-0.45733333,  1.842     ],\n",
       "       [-0.05733333,  2.342     ],\n",
       "       [ 0.34266667,  1.842     ],\n",
       "       [ 0.04266667,  1.742     ],\n",
       "       [-0.05733333,  1.042     ],\n",
       "       [ 0.04266667,  1.642     ],\n",
       "       [ 0.04266667,  1.842     ],\n",
       "       [ 0.04266667,  1.342     ],\n",
       "       [-0.35733333,  1.342     ],\n",
       "       [ 0.14266667,  2.142     ],\n",
       "       [ 0.24266667,  1.942     ],\n",
       "       [-0.05733333,  1.442     ],\n",
       "       [-0.55733333,  1.242     ],\n",
       "       [-0.05733333,  1.442     ],\n",
       "       [ 0.34266667,  1.642     ],\n",
       "       [-0.05733333,  1.342     ]])"
      ]
     },
     "execution_count": 17,
     "metadata": {},
     "output_type": "execute_result"
    }
   ],
   "source": [
    "centered_data = D - multi_d_mean\n",
    "centered_data"
   ]
  },
  {
   "cell_type": "markdown",
   "id": "b8b35525-01c4-4994-a201-b5db237e3314",
   "metadata": {},
   "source": [
    "**Let's try to plot the original data and the mean centered data.**"
   ]
  },
  {
   "cell_type": "code",
   "execution_count": 18,
   "id": "85e0f7a1-60fd-40d4-8f54-05b1c49595b6",
   "metadata": {},
   "outputs": [
    {
     "data": {
      "text/plain": [
       "Text(0.5, 1.0, 'Scatter plot of centered and original data')"
      ]
     },
     "execution_count": 18,
     "metadata": {},
     "output_type": "execute_result"
    },
    {
     "data": {
      "image/png": "[encoded data removed]",
      "text/plain": [
       "<Figure size 640x480 with 1 Axes>"
      ]
     },
     "metadata": {},
     "output_type": "display_data"
    }
   ],
   "source": [
    "fig = plt.figure()\n",
    "ax = fig.add_subplot(111) # short hand for creating a single subplot\n",
    "ax.scatter(D[:,0], D[:,1], s=10, c='b', marker='s', label='original data')\n",
    "ax.scatter(centered_data[:,0], centered_data[:,1], s=10, c='r', marker='x', label='centered data')\n",
    "plt.xlabel('X1')\n",
    "plt.ylabel('X2')\n",
    "plt.legend(loc='upper left')\n",
    "plt.title('Scatter plot of centered and original data')"
   ]
  },
  {
   "cell_type": "markdown",
   "id": "8b1aaf7f-f715-40e9-9bac-a0972946f48e",
   "metadata": {},
   "source": [
    "**Let's try to calculate the multi-dimensional mean of the mean centered data**"
   ]
  },
  {
   "cell_type": "code",
   "execution_count": 19,
   "id": "8802bab9-5e5e-490f-95d4-f1ecb29616c4",
   "metadata": {},
   "outputs": [
    {
     "data": {
      "text/plain": [
       "array([-7.60872846e-16, -2.55203266e-15])"
      ]
     },
     "execution_count": 19,
     "metadata": {},
     "output_type": "execute_result"
    }
   ],
   "source": [
    "np.mean(centered_data, axis = 0)"
   ]
  },
  {
   "cell_type": "markdown",
   "id": "2b0ccf21-9020-44f4-8137-273583f145e8",
   "metadata": {},
   "source": [
    "That is numerically zero!!!"
   ]
  },
  {
   "cell_type": "markdown",
   "id": "3e10c514-8616-4400-a66c-3f61f12f4cde",
   "metadata": {},
   "source": [
    "Linearly Transorming Data"
   ]
  },
  {
   "cell_type": "markdown",
   "id": "ae42a5df-4eaa-49c0-85c4-d4e73c674b70",
   "metadata": {},
   "source": [
    "Next, let's recall linear transforamtions as a rotaton and a scaling. Let's pick an arbitrary linear transormation and move some points around."
   ]
  },
  {
   "cell_type": "code",
   "execution_count": 20,
   "id": "a8d4b0ca-71c0-47ab-93cf-c9d073a05489",
   "metadata": {},
   "outputs": [
    {
     "data": {
      "text/plain": [
       "array([[ 2,  1],\n",
       "       [ 1, -1]])"
      ]
     },
     "execution_count": 20,
     "metadata": {},
     "output_type": "execute_result"
    }
   ],
   "source": [
    "A = np.array([[2,1],[1,-1]])\n",
    "A"
   ]
  },
  {
   "cell_type": "code",
   "execution_count": 21,
   "id": "d3b39a6e-c9f6-4697-90ec-0bbdc7edb4e6",
   "metadata": {},
   "outputs": [
    {
     "data": {
      "text/plain": [
       "array([3.5, 1.4])"
      ]
     },
     "execution_count": 21,
     "metadata": {},
     "output_type": "execute_result"
    }
   ],
   "source": [
    "D[0,:]"
   ]
  },
  {
   "cell_type": "code",
   "execution_count": 22,
   "id": "a0a78cee-efa3-4bfb-8bd2-25935d767c2f",
   "metadata": {},
   "outputs": [
    {
     "data": {
      "text/plain": [
       "array([8.4, 2.1])"
      ]
     },
     "execution_count": 22,
     "metadata": {},
     "output_type": "execute_result"
    }
   ],
   "source": [
    "A.dot(D[0,:])  # numpy consider D[0,:] as a column vector"
   ]
  },
  {
   "cell_type": "code",
   "execution_count": 23,
   "id": "9bebbd45-5c9e-4408-a307-9f923ceb2ee0",
   "metadata": {},
   "outputs": [
    {
     "data": {
      "text/plain": [
       "array([3. , 1.4])"
      ]
     },
     "execution_count": 23,
     "metadata": {},
     "output_type": "execute_result"
    }
   ],
   "source": [
    "D[1,:]"
   ]
  },
  {
   "cell_type": "code",
   "execution_count": 24,
   "id": "bfae49d6-2dca-4fb7-b525-8efc05a28c96",
   "metadata": {},
   "outputs": [
    {
     "data": {
      "text/plain": [
       "array([7.4, 1.6])"
      ]
     },
     "execution_count": 24,
     "metadata": {},
     "output_type": "execute_result"
    }
   ],
   "source": [
    "A.dot(D[1,:])"
   ]
  },
  {
   "cell_type": "code",
   "execution_count": null,
   "id": "e7066528-04b4-4fbb-89d9-1bc5de2db557",
   "metadata": {},
   "outputs": [],
   "source": []
  },
  {
   "cell_type": "markdown",
   "id": "fb80c013-349d-4d3f-976c-92ef7c572478",
   "metadata": {},
   "source": [
    "Great! So let's transform all the data in one go!"
   ]
  },
  {
   "cell_type": "code",
   "execution_count": 25,
   "id": "c52b851b-fa54-4a2b-872c-edc46efb6065",
   "metadata": {},
   "outputs": [
    {
     "data": {
      "text/plain": [
       "array([[ 8.4,  2.1],\n",
       "       [ 7.4,  1.6],\n",
       "       [ 7.7,  1.9],\n",
       "       [ 7.7,  1.6],\n",
       "       [ 8.6,  2.2],\n",
       "       [ 9.5,  2.2],\n",
       "       [ 8.2,  2. ],\n",
       "       [ 8.3,  1.9],\n",
       "       [ 7.2,  1.5],\n",
       "       [ 7.7,  1.6],\n",
       "       [ 8.9,  2.2],\n",
       "       [ 8.4,  1.8],\n",
       "       [ 7.4,  1.6],\n",
       "       [ 7.1,  1.9],\n",
       "       [ 9.2,  2.8],\n",
       "       [10.3,  2.9],\n",
       "       [ 9.1,  2.6],\n",
       "       [ 8.4,  2.1],\n",
       "       [ 9.3,  2.1],\n",
       "       [ 9.1,  2.3],\n",
       "       [ 8.5,  1.7],\n",
       "       [ 8.9,  2.2],\n",
       "       [ 8.2,  2.6],\n",
       "       [ 8.3,  1.6],\n",
       "       [ 8.7,  1.5],\n",
       "       [ 7.6,  1.4],\n",
       "       [ 8.4,  1.8],\n",
       "       [ 8.5,  2. ],\n",
       "       [ 8.2,  2. ],\n",
       "       [ 8. ,  1.6],\n",
       "       [ 7.8,  1.5],\n",
       "       [ 8.3,  1.9],\n",
       "       [ 9.7,  2.6],\n",
       "       [ 9.8,  2.8],\n",
       "       [ 7.7,  1.6],\n",
       "       [ 7.6,  2. ],\n",
       "       [ 8.3,  2.2],\n",
       "       [ 8.6,  2.2],\n",
       "       [ 7.3,  1.7],\n",
       "       [ 8.3,  1.9],\n",
       "       [ 8.3,  2.2],\n",
       "       [ 5.9,  1. ],\n",
       "       [ 7.7,  1.9],\n",
       "       [ 8.6,  1.9],\n",
       "       [ 9.5,  1.9],\n",
       "       [ 7.4,  1.6],\n",
       "       [ 9.2,  2.2],\n",
       "       [ 7.8,  1.8],\n",
       "       [ 8.9,  2.2],\n",
       "       [ 8. ,  1.9],\n",
       "       [11.1, -1.5],\n",
       "       [10.9, -1.3],\n",
       "       [11.1, -1.8],\n",
       "       [ 8.6, -1.7],\n",
       "       [10.2, -1.8],\n",
       "       [10.1, -1.7],\n",
       "       [11.3, -1.4],\n",
       "       [ 8.1, -0.9],\n",
       "       [10.4, -1.7],\n",
       "       [ 9.3, -1.2],\n",
       "       [ 7.5, -1.5],\n",
       "       [10.2, -1.2],\n",
       "       [ 8.4, -1.8],\n",
       "       [10.5, -1.8],\n",
       "       [ 9.4, -0.7],\n",
       "       [10.6, -1.3],\n",
       "       [10.5, -1.5],\n",
       "       [ 9.5, -1.4],\n",
       "       [ 8.9, -2.3],\n",
       "       [ 8.9, -1.4],\n",
       "       [11.2, -1.6],\n",
       "       [ 9.6, -1.2],\n",
       "       [ 9.9, -2.4],\n",
       "       [10.3, -1.9],\n",
       "       [10.1, -1.4],\n",
       "       [10.4, -1.4],\n",
       "       [10.4, -2. ],\n",
       "       [11. , -2. ],\n",
       "       [10.3, -1.6],\n",
       "       [ 8.7, -0.9],\n",
       "       [ 8.6, -1.4],\n",
       "       [ 8.5, -1.3],\n",
       "       [ 9.3, -1.2],\n",
       "       [10.5, -2.4],\n",
       "       [10.5, -1.5],\n",
       "       [11.3, -1.1],\n",
       "       [10.9, -1.6],\n",
       "       [ 9. , -2.1],\n",
       "       [10.1, -1.1],\n",
       "       [ 9. , -1.5],\n",
       "       [ 9.6, -1.8],\n",
       "       [10.6, -1.6],\n",
       "       [ 9.2, -1.4],\n",
       "       [ 7.9, -1. ],\n",
       "       [ 9.6, -1.5],\n",
       "       [10.2, -1.2],\n",
       "       [10. , -1.3],\n",
       "       [10.1, -1.4],\n",
       "       [ 8. , -0.5],\n",
       "       [ 9.7, -1.3],\n",
       "       [12.6, -2.7],\n",
       "       [10.5, -2.4],\n",
       "       [11.9, -2.9],\n",
       "       [11.4, -2.7],\n",
       "       [11.8, -2.8],\n",
       "       [12.6, -3.6],\n",
       "       [ 9.5, -2. ],\n",
       "       [12.1, -3.4],\n",
       "       [10.8, -3.3],\n",
       "       [13.3, -2.5],\n",
       "       [11.5, -1.9],\n",
       "       [10.7, -2.6],\n",
       "       [11.5, -2.5],\n",
       "       [10. , -2.5],\n",
       "       [10.7, -2.3],\n",
       "       [11.7, -2.1],\n",
       "       [11.5, -2.5],\n",
       "       [14.3, -2.9],\n",
       "       [12.1, -4.3],\n",
       "       [ 9.4, -2.8],\n",
       "       [12.1, -2.5],\n",
       "       [10.5, -2.1],\n",
       "       [12.3, -3.9],\n",
       "       [10.3, -2.2],\n",
       "       [12.3, -2.4],\n",
       "       [12.4, -2.8],\n",
       "       [10.4, -2. ],\n",
       "       [10.9, -1.9],\n",
       "       [11.2, -2.8],\n",
       "       [11.8, -2.8],\n",
       "       [11.7, -3.3],\n",
       "       [14. , -2.6],\n",
       "       [11.2, -2.8],\n",
       "       [10.7, -2.3],\n",
       "       [10.8, -3. ],\n",
       "       [12.1, -3.1],\n",
       "       [12.4, -2.2],\n",
       "       [11.7, -2.4],\n",
       "       [10.8, -1.8],\n",
       "       [11.6, -2.3],\n",
       "       [11.8, -2.5],\n",
       "       [11.3, -2. ],\n",
       "       [10.5, -2.4],\n",
       "       [12.3, -2.7],\n",
       "       [12.3, -2.4],\n",
       "       [11.2, -2.2],\n",
       "       [10. , -2.5],\n",
       "       [11.2, -2.2],\n",
       "       [12.2, -2. ],\n",
       "       [11.1, -2.1]])"
      ]
     },
     "execution_count": 25,
     "metadata": {},
     "output_type": "execute_result"
    }
   ],
   "source": [
    "linearly_transformed_data = A.dot(D.T) # little bit weird that we have to take the transpose here.\n",
    "linearly_transformed_data.T"
   ]
  },
  {
   "cell_type": "code",
   "execution_count": 26,
   "id": "2474620e-e3a7-4638-b663-e65b2a0677c0",
   "metadata": {},
   "outputs": [
    {
     "data": {
      "text/plain": [
       "array([[3.5, 1.4],\n",
       "       [3. , 1.4],\n",
       "       [3.2, 1.3],\n",
       "       [3.1, 1.5],\n",
       "       [3.6, 1.4],\n",
       "       [3.9, 1.7],\n",
       "       [3.4, 1.4],\n",
       "       [3.4, 1.5],\n",
       "       [2.9, 1.4],\n",
       "       [3.1, 1.5],\n",
       "       [3.7, 1.5],\n",
       "       [3.4, 1.6],\n",
       "       [3. , 1.4],\n",
       "       [3. , 1.1],\n",
       "       [4. , 1.2],\n",
       "       [4.4, 1.5],\n",
       "       [3.9, 1.3],\n",
       "       [3.5, 1.4],\n",
       "       [3.8, 1.7],\n",
       "       [3.8, 1.5],\n",
       "       [3.4, 1.7],\n",
       "       [3.7, 1.5],\n",
       "       [3.6, 1. ],\n",
       "       [3.3, 1.7],\n",
       "       [3.4, 1.9],\n",
       "       [3. , 1.6],\n",
       "       [3.4, 1.6],\n",
       "       [3.5, 1.5],\n",
       "       [3.4, 1.4],\n",
       "       [3.2, 1.6],\n",
       "       [3.1, 1.6],\n",
       "       [3.4, 1.5],\n",
       "       [4.1, 1.5],\n",
       "       [4.2, 1.4],\n",
       "       [3.1, 1.5],\n",
       "       [3.2, 1.2],\n",
       "       [3.5, 1.3],\n",
       "       [3.6, 1.4],\n",
       "       [3. , 1.3],\n",
       "       [3.4, 1.5],\n",
       "       [3.5, 1.3],\n",
       "       [2.3, 1.3],\n",
       "       [3.2, 1.3],\n",
       "       [3.5, 1.6],\n",
       "       [3.8, 1.9],\n",
       "       [3. , 1.4],\n",
       "       [3.8, 1.6],\n",
       "       [3.2, 1.4],\n",
       "       [3.7, 1.5],\n",
       "       [3.3, 1.4],\n",
       "       [3.2, 4.7],\n",
       "       [3.2, 4.5],\n",
       "       [3.1, 4.9],\n",
       "       [2.3, 4. ],\n",
       "       [2.8, 4.6],\n",
       "       [2.8, 4.5],\n",
       "       [3.3, 4.7],\n",
       "       [2.4, 3.3],\n",
       "       [2.9, 4.6],\n",
       "       [2.7, 3.9],\n",
       "       [2. , 3.5],\n",
       "       [3. , 4.2],\n",
       "       [2.2, 4. ],\n",
       "       [2.9, 4.7],\n",
       "       [2.9, 3.6],\n",
       "       [3.1, 4.4],\n",
       "       [3. , 4.5],\n",
       "       [2.7, 4.1],\n",
       "       [2.2, 4.5],\n",
       "       [2.5, 3.9],\n",
       "       [3.2, 4.8],\n",
       "       [2.8, 4. ],\n",
       "       [2.5, 4.9],\n",
       "       [2.8, 4.7],\n",
       "       [2.9, 4.3],\n",
       "       [3. , 4.4],\n",
       "       [2.8, 4.8],\n",
       "       [3. , 5. ],\n",
       "       [2.9, 4.5],\n",
       "       [2.6, 3.5],\n",
       "       [2.4, 3.8],\n",
       "       [2.4, 3.7],\n",
       "       [2.7, 3.9],\n",
       "       [2.7, 5.1],\n",
       "       [3. , 4.5],\n",
       "       [3.4, 4.5],\n",
       "       [3.1, 4.7],\n",
       "       [2.3, 4.4],\n",
       "       [3. , 4.1],\n",
       "       [2.5, 4. ],\n",
       "       [2.6, 4.4],\n",
       "       [3. , 4.6],\n",
       "       [2.6, 4. ],\n",
       "       [2.3, 3.3],\n",
       "       [2.7, 4.2],\n",
       "       [3. , 4.2],\n",
       "       [2.9, 4.2],\n",
       "       [2.9, 4.3],\n",
       "       [2.5, 3. ],\n",
       "       [2.8, 4.1],\n",
       "       [3.3, 6. ],\n",
       "       [2.7, 5.1],\n",
       "       [3. , 5.9],\n",
       "       [2.9, 5.6],\n",
       "       [3. , 5.8],\n",
       "       [3. , 6.6],\n",
       "       [2.5, 4.5],\n",
       "       [2.9, 6.3],\n",
       "       [2.5, 5.8],\n",
       "       [3.6, 6.1],\n",
       "       [3.2, 5.1],\n",
       "       [2.7, 5.3],\n",
       "       [3. , 5.5],\n",
       "       [2.5, 5. ],\n",
       "       [2.8, 5.1],\n",
       "       [3.2, 5.3],\n",
       "       [3. , 5.5],\n",
       "       [3.8, 6.7],\n",
       "       [2.6, 6.9],\n",
       "       [2.2, 5. ],\n",
       "       [3.2, 5.7],\n",
       "       [2.8, 4.9],\n",
       "       [2.8, 6.7],\n",
       "       [2.7, 4.9],\n",
       "       [3.3, 5.7],\n",
       "       [3.2, 6. ],\n",
       "       [2.8, 4.8],\n",
       "       [3. , 4.9],\n",
       "       [2.8, 5.6],\n",
       "       [3. , 5.8],\n",
       "       [2.8, 6.1],\n",
       "       [3.8, 6.4],\n",
       "       [2.8, 5.6],\n",
       "       [2.8, 5.1],\n",
       "       [2.6, 5.6],\n",
       "       [3. , 6.1],\n",
       "       [3.4, 5.6],\n",
       "       [3.1, 5.5],\n",
       "       [3. , 4.8],\n",
       "       [3.1, 5.4],\n",
       "       [3.1, 5.6],\n",
       "       [3.1, 5.1],\n",
       "       [2.7, 5.1],\n",
       "       [3.2, 5.9],\n",
       "       [3.3, 5.7],\n",
       "       [3. , 5.2],\n",
       "       [2.5, 5. ],\n",
       "       [3. , 5.2],\n",
       "       [3.4, 5.4],\n",
       "       [3. , 5.1]])"
      ]
     },
     "execution_count": 26,
     "metadata": {},
     "output_type": "execute_result"
    }
   ],
   "source": [
    "D"
   ]
  },
  {
   "cell_type": "code",
   "execution_count": 27,
   "id": "ff2362ee-0302-429a-b695-77ea8196e08b",
   "metadata": {},
   "outputs": [
    {
     "data": {
      "text/plain": [
       "Text(0.5, 1.0, 'Scatter plot of original data and linearly transformed data')"
      ]
     },
     "execution_count": 27,
     "metadata": {},
     "output_type": "execute_result"
    },
    {
     "data": {
      "image/png": "[encoded data removed]",
      "text/plain": [
       "<Figure size 640x480 with 1 Axes>"
      ]
     },
     "metadata": {},
     "output_type": "display_data"
    }
   ],
   "source": [
    "fig = plt.figure()\n",
    "ax = fig.add_subplot(111)\n",
    "ax.scatter(linearly_transformed_data[0,:], linearly_transformed_data[1,:], s=10, c='r', marker='x', label='linearly transformed data')\n",
    "ax.scatter(D[:,0], D[:,1], s=10, c='b', marker='s', label='original data')\n",
    "plt.xlabel('X1')\n",
    "plt.ylabel('X2')\n",
    "plt.legend(loc='lower right')\n",
    "plt.title('Scatter plot of original data and linearly transformed data')"
   ]
  },
  {
   "cell_type": "markdown",
   "id": "2e0c7bc8-43ce-4192-a254-28e1f91ff434",
   "metadata": {},
   "source": [
    "**Let's do a small exercise.**\n",
    "\n",
    "Here I defined the rotation matrix for 2D plane. If you use this linear transformation, you can rotate the points by theta angle.\n",
    "\n",
    "Apply the linear transformation and plot them against the original data points."
   ]
  },
  {
   "cell_type": "code",
   "execution_count": 28,
   "id": "0d4b9633-e619-4a29-ae83-38ca119019c1",
   "metadata": {},
   "outputs": [
    {
     "data": {
      "text/plain": [
       "array([[ 0.70710678, -0.70710678],\n",
       "       [ 0.70710678,  0.70710678]])"
      ]
     },
     "execution_count": 28,
     "metadata": {},
     "output_type": "execute_result"
    }
   ],
   "source": [
    "angle = 45\n",
    "angle_in_radians = np.radians(angle)\n",
    "cos_theta = np.sin(angle_in_radians)\n",
    "sin_theta = np.cos(angle_in_radians)\n",
    "B = np.array([[cos_theta, -sin_theta], [sin_theta, cos_theta]])\n",
    "B"
   ]
  },
  {
   "cell_type": "code",
   "execution_count": 29,
   "id": "cff87ebd-67ce-4e49-8ae7-98e491be4bea",
   "metadata": {},
   "outputs": [
    {
     "data": {
      "text/plain": [
       "Text(0.5, 1.0, 'Scatter plot of original data and linearly transformed data')"
      ]
     },
     "execution_count": 29,
     "metadata": {},
     "output_type": "execute_result"
    },
    {
     "data": {
      "image/png": "[encoded data removed]",
      "text/plain": [
       "<Figure size 640x480 with 1 Axes>"
      ]
     },
     "metadata": {},
     "output_type": "display_data"
    }
   ],
   "source": [
    "# Exercise\n",
    "linearly_transformed_data_rotate = B.dot(D.T) # little bit weird that we have to take the transpose here.\n",
    "linearly_transformed_data_rotate.T\n",
    "\n",
    "fig = plt.figure()\n",
    "ax = fig.add_subplot(111)\n",
    "ax.scatter(linearly_transformed_data_rotate[0,:], linearly_transformed_data_rotate[1,:], s=10, c='r', marker='x', label='linearly transformed data')\n",
    "ax.scatter(D[:,0], D[:,1], s=10, c='b', marker='s', label='original data')\n",
    "plt.xlabel('X1')\n",
    "plt.ylabel('X2')\n",
    "plt.legend(loc='lower right')\n",
    "plt.title('Scatter plot of original data and linearly transformed data')"
   ]
  },
  {
   "cell_type": "markdown",
   "id": "75258c6f-3da4-4307-a426-0614272c2372",
   "metadata": {},
   "source": [
    "**Now let's get back to PCA**"
   ]
  },
  {
   "cell_type": "code",
   "execution_count": null,
   "id": "4ad9568c-f2b0-47b9-b21d-641b31c666ea",
   "metadata": {},
   "outputs": [],
   "source": [
    "Sigma = np.cov(D.T, ddof=1)\n",
    "Sigma"
   ]
  },
  {
   "cell_type": "markdown",
   "id": "eaa24ed9-b86a-4d91-aa3c-eeb92580869b",
   "metadata": {},
   "source": [
    "Or, we an compute it the way we saw in the notes:"
   ]
  },
  {
   "cell_type": "code",
   "execution_count": null,
   "id": "78c88a38-5b51-47cc-bd74-3a2bacb558f4",
   "metadata": {},
   "outputs": [],
   "source": [
    "n = D.shape[0]\n",
    "1/(n-1)*np.dot(centered_data.T, centered_data)"
   ]
  },
  {
   "cell_type": "markdown",
   "id": "4bb9e549-470a-4f49-ab24-0a40962e211c",
   "metadata": {},
   "source": [
    "They are the same."
   ]
  },
  {
   "cell_type": "markdown",
   "id": "191f23aa-9fda-426d-bd34-08e2fa34d4d7",
   "metadata": {},
   "source": [
    "**Eigenvalues**"
   ]
  },
  {
   "cell_type": "markdown",
   "id": "5be58df0-142f-40a9-85b1-832f6d55f5b5",
   "metadata": {},
   "source": [
    "Next up is one of the major steps, we will get the eigenvalues and engenvectors of the covariance matrix"
   ]
  },
  {
   "cell_type": "code",
   "execution_count": null,
   "id": "df68251e-eb51-4c12-96f6-378b6af66419",
   "metadata": {},
   "outputs": [],
   "source": [
    "import numpy.linalg as LA\n",
    "evalues, evectors = LA.eig(Sigma)"
   ]
  },
  {
   "cell_type": "code",
   "execution_count": null,
   "id": "ca6b093e-df58-41ec-be0b-69aee48521fb",
   "metadata": {},
   "outputs": [],
   "source": [
    "evalues"
   ]
  },
  {
   "cell_type": "code",
   "execution_count": null,
   "id": "245c0e9a-8e34-4048-8f3d-fe77d87fdc54",
   "metadata": {},
   "outputs": [],
   "source": [
    "evectors"
   ]
  },
  {
   "cell_type": "markdown",
   "id": "96b47cb6-5577-4cf4-9c47-f4934eba5545",
   "metadata": {},
   "source": [
    "Note that in class, and the algorithm, the eigenvalues (and corresponding vectors) were assumed to be sorted in decending order by eigenvalue. Numpy does not do that, so let's sort them!"
   ]
  },
  {
   "cell_type": "code",
   "execution_count": null,
   "id": "eea3ab08-06c0-4c6e-8ac3-67aa9f479283",
   "metadata": {},
   "outputs": [],
   "source": [
    "idx = evalues.argsort()[::-1] # evalues.argsort() returns the indices that would sort the evalues array in ascending order.\n",
    "print(idx)\n",
    "evalues = evalues[idx]\n",
    "evectors = evectors[:, idx]"
   ]
  },
  {
   "cell_type": "markdown",
   "id": "a8e93cf5-4197-4d01-807f-492018507c6e",
   "metadata": {},
   "source": [
    "**Now they are sorted in decending order by eigenvalue**"
   ]
  },
  {
   "cell_type": "code",
   "execution_count": null,
   "id": "f337a9f6-1f5f-4e20-b7a7-1b8137b91910",
   "metadata": {},
   "outputs": [],
   "source": [
    "print(evalues)\n",
    "print(evectors)"
   ]
  },
  {
   "cell_type": "markdown",
   "id": "23952e01-3139-4dfd-853e-86c35befee76",
   "metadata": {},
   "source": [
    "**Recall that the sum of the eigenvalues is the total variance of the dataset. That is**"
   ]
  },
  {
   "cell_type": "code",
   "execution_count": null,
   "id": "ca2f45c4-a05a-4cb3-9cb0-0c34f6444cda",
   "metadata": {},
   "outputs": [],
   "source": [
    "total_var = sum(np.diag(Sigma))\n",
    "total_var"
   ]
  },
  {
   "cell_type": "code",
   "execution_count": null,
   "id": "11894904-36d0-49ca-bb48-00c4d07f55d3",
   "metadata": {},
   "outputs": [],
   "source": [
    "sum(evalues)"
   ]
  },
  {
   "cell_type": "markdown",
   "id": "4a9ce287-b107-4b64-8b0b-640c18387063",
   "metadata": {},
   "source": [
    "And, we can find the proportion of the total variance attributred to each eigenvector. For example, in just the direction of the largest eigenvalues, we capture over 95% of the total variance:"
   ]
  },
  {
   "cell_type": "code",
   "execution_count": null,
   "id": "11bfc52b-e104-442c-b1e2-fa3b94e6d39c",
   "metadata": {},
   "outputs": [],
   "source": [
    "evalues[0]/total_var"
   ]
  },
  {
   "cell_type": "markdown",
   "id": "2500ed56-d9bc-4c3f-b844-c66cb29d797f",
   "metadata": {},
   "source": [
    "Let's project our data on to the largest eigenvector."
   ]
  },
  {
   "cell_type": "code",
   "execution_count": null,
   "id": "ac9de70c-f372-4737-9bcb-3dca4e247f5f",
   "metadata": {},
   "outputs": [],
   "source": [
    "coords_along_eig0 = evectors[:,0].T.dot(centered_data.T)\n",
    "coords_along_eig0"
   ]
  },
  {
   "cell_type": "markdown",
   "id": "fce99bd7-54f1-4b18-9259-0921c3e1dc0e",
   "metadata": {},
   "source": [
    "We have one dimensional representation of our dataset."
   ]
  },
  {
   "cell_type": "code",
   "execution_count": null,
   "id": "3352be5e-e1e3-41f5-8337-67a65de93eed",
   "metadata": {},
   "outputs": [],
   "source": [
    "coords_along_eig0.shape"
   ]
  },
  {
   "cell_type": "markdown",
   "id": "0df718ff-93e2-48a6-9133-9cfa0716f956",
   "metadata": {},
   "source": [
    "It can be helpful to visuzlize the data projected on to the eigenvector. Below, we plot the centered data in blue and the projected data in red"
   ]
  },
  {
   "cell_type": "code",
   "execution_count": null,
   "id": "e5436414-adc6-429f-8f21-cdb0916e7aab",
   "metadata": {},
   "outputs": [],
   "source": [
    "coords_along_eig0 = evectors[:,0].T.dot(centered_data.T)\n",
    "\n",
    "projected_along_eig0 = np.zeros((n,2))\n",
    "for i in range(len(coords_along_eig0)):\n",
    "    projected_along_eig0[i,:] = coords_along_eig0[i]*evectors[:,0]\n",
    "\n",
    "pjdev0 = projected_along_eig0\n",
    "# plot of centered data and its projection onto the first principial component (evec corresponding to largest eval)\n",
    "fig = plt.figure()\n",
    "ax = fig.add_subplot(111)\n",
    "ax.scatter(centered_data[:,0], centered_data[:,1], s=10, c='b', marker='s', label='centered data')\n",
    "ax.scatter(pjdev0[:,0], pjdev0[:,1], s=10, c='r', marker='x', label='1-dimensional pca-transformed data')\n",
    "plt.xlabel('X1')\n",
    "plt.ylabel('X2')\n",
    "plt.xlim(-3,3)\n",
    "plt.ylim(-3,3)\n",
    "plt.legend(loc='upper left')\n",
    "plt.title('Scatter plot of centered and PCA-transformed data')"
   ]
  },
  {
   "cell_type": "markdown",
   "id": "b46be4ea-2cc2-4fa0-9f0f-793da8983219",
   "metadata": {},
   "source": [
    "what happens if we use the other eigenvector?"
   ]
  },
  {
   "cell_type": "code",
   "execution_count": null,
   "id": "3caf4f3a-1747-420a-abe5-2ebd2d1e6a98",
   "metadata": {},
   "outputs": [],
   "source": [
    "coords_along_eig1 = evectors[:,1].T.dot(centered_data.T)\n",
    "\n",
    "projected_along_eig1 = np.zeros((n,2))\n",
    "for i in range(len(coords_along_eig1)):\n",
    "    projected_along_eig1[i,:] = coords_along_eig1[i]*evectors[:,1]\n",
    "\n",
    "pjdev1 = projected_along_eig1\n",
    "# plot of centered data and its projection onto the first principial component (evec corresponding to largest eval)\n",
    "fig = plt.figure()\n",
    "ax = fig.add_subplot(111)\n",
    "ax.scatter(centered_data[:,0], centered_data[:,1], s=10, c='b', marker='s', label='centered data')\n",
    "ax.scatter(pjdev0[:,0], pjdev0[:,1], s=10, c='r', marker='x', label='1-dimensional pca-transformed data')\n",
    "ax.scatter(pjdev1[:,0], pjdev1[:,1], s=10, c='c', marker='x', label='1-dimensional transformed data onto evec 1')\n",
    "plt.xlabel('X1')\n",
    "plt.ylabel('X2')\n",
    "plt.xlim(-3,3)\n",
    "plt.ylim(-3,3)\n",
    "plt.legend(loc='upper left')\n",
    "plt.title('Scatter plot of centered and PCA-transformed data')"
   ]
  },
  {
   "cell_type": "code",
   "execution_count": null,
   "id": "59ba570c-11da-4e10-9102-ff0b02f0e143",
   "metadata": {},
   "outputs": [],
   "source": [
    "coords_in_evec_axes = evectors.T.dot(centered_data.T)\n",
    "coords_in_evec_axes.shape"
   ]
  },
  {
   "cell_type": "code",
   "execution_count": null,
   "id": "46fcd789-f50e-4d9f-865e-032fb6e9e217",
   "metadata": {},
   "outputs": [],
   "source": [
    "plt.scatter(coords_in_evec_axes[0,:], coords_in_evec_axes[1,:])\n",
    "plt.xlabel('PC1 (evec corresponding to largest eval of Sigma) ')\n",
    "plt.ylabel('PC2 (evec corresponding to second largest eval of Sigma) ')\n",
    "plt.xlim(-3,3)\n",
    "plt.ylim(-3,3)\n",
    "plt.title('scatter plot of transformed data with eigenvectors as axes')"
   ]
  },
  {
   "cell_type": "markdown",
   "id": "4612bcf2-368c-470a-a2a8-d5fc10862e07",
   "metadata": {},
   "source": [
    "But we do not have to implement this algorithm by hand. It's already in the standard libraries.\n",
    "\n",
    "Following is one of the implementations in scikit-learn!!!"
   ]
  },
  {
   "cell_type": "code",
   "execution_count": null,
   "id": "738cb64a-fa59-48e0-b4a4-d95fee281e73",
   "metadata": {},
   "outputs": [],
   "source": [
    "from sklearn.decomposition import PCA\n",
    "pca = PCA(n_components=2)\n",
    "pca_transformed_D = pca.fit_transform(D)"
   ]
  },
  {
   "cell_type": "markdown",
   "id": "c2eda656-b391-41bb-b458-5310264cf1fb",
   "metadata": {},
   "source": [
    "After we run PCA, we can get some info about what the decomposition did:"
   ]
  },
  {
   "cell_type": "code",
   "execution_count": null,
   "id": "9131e4dc-4d53-48d7-ae18-0252ea3be52c",
   "metadata": {},
   "outputs": [],
   "source": [
    "pca.explained_variance_ratio_"
   ]
  },
  {
   "cell_type": "markdown",
   "id": "a5bc9a34-b848-4b73-9c79-cd971dad3b4d",
   "metadata": {},
   "source": [
    "What does this mean?"
   ]
  },
  {
   "cell_type": "markdown",
   "id": "5b827093-9255-4366-8f82-1f5bd310c0b9",
   "metadata": {},
   "source": [
    "Those are the propotion of the variance in the direction of each principal component."
   ]
  },
  {
   "cell_type": "code",
   "execution_count": null,
   "id": "f04516c5-d8c0-4952-93c3-19b5b5a1fa5d",
   "metadata": {},
   "outputs": [],
   "source": [
    "print(evalues[0] / sum(evalues))\n",
    "print(evalues[1] / sum(evalues))"
   ]
  },
  {
   "cell_type": "markdown",
   "id": "1747d74d-ea48-4b6c-9643-2d443f923d69",
   "metadata": {},
   "source": [
    "**We can also get the eigenvectors:**"
   ]
  },
  {
   "cell_type": "code",
   "execution_count": null,
   "id": "63b54cb1-1f20-4567-b1cc-310b21e1be0d",
   "metadata": {},
   "outputs": [],
   "source": [
    "pca.components_ "
   ]
  },
  {
   "cell_type": "markdown",
   "id": "02146759-22cd-4ee8-b794-4e403b3f7ddc",
   "metadata": {},
   "source": [
    "**Remember that the eigenvectors are listed row wise in decreasing order of eigenvalues magnitude. So we have :**\n",
    "\n",
    "- 0th eigenvector is [-0.11057628,  0.99386764]\n",
    "- 1st eigenvector is [0.99386764,  0.11057628]"
   ]
  },
  {
   "cell_type": "markdown",
   "id": "1d410138-7919-401e-bf90-24fdcc416ce6",
   "metadata": {},
   "source": [
    "We can compare with our previous eigenvectos:"
   ]
  },
  {
   "cell_type": "code",
   "execution_count": null,
   "id": "a14247c8-94b0-4451-aee7-6ed36acb3665",
   "metadata": {},
   "outputs": [],
   "source": [
    "evectors"
   ]
  },
  {
   "cell_type": "markdown",
   "id": "3f7ccabb-47ef-4c02-a0c0-7d439414a874",
   "metadata": {},
   "source": [
    "Eigenvectors we calculated earlier is listed column wise. Recall that they are also in decreasing order of the magnitude.\n",
    "\n",
    "\n",
    "- 0th eigenvector is [0.11057628,  -0.99386764]\n",
    "- 1st eigenvector is [-0.99386764,  -0.11057628]\n",
    "\n",
    "There is a small **difference** in the eigenvectors we calculated and the scikit-learn implementations answer.\n",
    "\n",
    "The eigenvectors are facing the opposite directions. But this is fine.\n",
    "\n",
    "0th eigenvector maximizes the variance. Obviously its opposite direction also maximizes the variance. "
   ]
  },
  {
   "cell_type": "code",
   "execution_count": null,
   "id": "a3d300ab-112c-44e7-9298-f4fe3ee8147d",
   "metadata": {},
   "outputs": [],
   "source": [
    "fig = plt.figure()\n",
    "ax = fig.add_subplot(111)\n",
    "ax.scatter(coords_in_evec_axes[0,:], coords_in_evec_axes[1,:], s=10, c='b', marker='s', label='transformed data using pca')\n",
    "ax.scatter(pca_transformed_D[:,0], pca_transformed_D[:,1], s=10, c='r', marker='x', label='transformed data using sklearn PCA')\n",
    "plt.xlabel('PC1')\n",
    "plt.ylabel('PC2')\n",
    "plt.xlim(-3,3)\n",
    "plt.ylim(-3,3)\n",
    "plt.legend(loc='lower right')\n",
    "plt.title('Scatter plot of centered and sklearn PCA-transformed data using 2 principal components')"
   ]
  },
  {
   "cell_type": "markdown",
   "id": "e2432256-1c52-47be-ac95-516e21206a39",
   "metadata": {},
   "source": [
    "So, we can see that the blue points and the red points are reflectison of eachother. That is becuase the directions we projected on to are the opposite of the directions that sklearn projected on to. To use the same directions, just multiply each coordinate by -1"
   ]
  },
  {
   "cell_type": "code",
   "execution_count": null,
   "id": "42496526-59d5-4bc3-8918-8708d9ac0c3a",
   "metadata": {},
   "outputs": [],
   "source": [
    "\n",
    "fig = plt.figure()\n",
    "ax = fig.add_subplot(111)\n",
    "ax.scatter(-1*coords_in_evec_axes[0,:], -1*coords_in_evec_axes[1,:], s=10, c='b', marker='s', label='transformed data using pca')\n",
    "ax.scatter(pca_transformed_D[:,0], pca_transformed_D[:,1], s=10, c='r', marker='x', label='transformed data using sklearn PCA')\n",
    "plt.xlabel('PC1')\n",
    "plt.ylabel('PC2')\n",
    "plt.xlim(-3,3)\n",
    "plt.ylim(-3,3)\n",
    "plt.legend(loc='lower right')\n",
    "plt.title('Scatter plot of centered and sklearn PCA-transformed data using 2 principal components')"
   ]
  },
  {
   "cell_type": "markdown",
   "id": "b391b5a7-8835-4174-a28a-2accba10cc39",
   "metadata": {},
   "source": [
    "Another thing that I mentioned in the lecture was that when we have the transformed points, we have a representation in which varaince in each direction is independent. Let's look that now."
   ]
  },
  {
   "cell_type": "code",
   "execution_count": null,
   "id": "7107de9e-367b-4d17-bf5b-5cb1c5d1cfb9",
   "metadata": {},
   "outputs": [],
   "source": [
    "np.cov(coords_in_evec_axes)"
   ]
  },
  {
   "cell_type": "markdown",
   "id": "4b5e580f-8727-4ffd-80f4-a6b3f4cc68cf",
   "metadata": {},
   "source": [
    "Look at the **off diagonal**.\n",
    "\n",
    "They are basically zero."
   ]
  },
  {
   "cell_type": "markdown",
   "id": "3c4c473b-b9b8-40e7-81f5-eada3e23b7c6",
   "metadata": {},
   "source": [
    "**Let's work on a real dataset.**\n",
    "\n",
    "Maybe we can pick something with more than 3 dimensions to make it more interesting.\n",
    "\n",
    "The iris dataset orignally had 4 attributes, but we only used 2 of them for the previous examples. Now let's use all of them."
   ]
  },
  {
   "cell_type": "code",
   "execution_count": null,
   "id": "5127c32c-4157-42e5-9e9f-976575015730",
   "metadata": {},
   "outputs": [],
   "source": [
    "D_iris = load_iris()['data']\n",
    "pca = PCA(n_components=2)\n",
    "pca_transformed_D_iris = pca.fit_transform(D_iris)\n",
    "pca.explained_variance_ratio_"
   ]
  },
  {
   "cell_type": "code",
   "execution_count": null,
   "id": "e7f2cf8f-c95a-416c-8e5c-73e90caf839f",
   "metadata": {},
   "outputs": [],
   "source": [
    "D_iris.shape"
   ]
  },
  {
   "cell_type": "code",
   "execution_count": null,
   "id": "99fb010e-4e5e-4f60-b564-18d057ecb49d",
   "metadata": {},
   "outputs": [],
   "source": [
    "pca_transformed_D_iris.shape"
   ]
  },
  {
   "cell_type": "code",
   "execution_count": null,
   "id": "7a5533ed-0499-4903-829c-e0a9dcfedd0a",
   "metadata": {},
   "outputs": [],
   "source": [
    "plt.scatter(pca_transformed_D_iris[:, 0], pca_transformed_D_iris[:, 1])\n",
    "plt.xlabel('PC0')\n",
    "plt.ylabel('PC1')\n",
    "plt.title('PCA-transformed iris data using 2 principal components')"
   ]
  }
 ],
 "metadata": {
  "kernelspec": {
   "display_name": "Python 3 (ipykernel)",
   "language": "python",
   "name": "python3"
  },
  "language_info": {
   "codemirror_mode": {
    "name": "ipython",
    "version": 3
   },
   "file_extension": ".py",
   "mimetype": "text/x-python",
   "name": "python",
   "nbconvert_exporter": "python",
   "pygments_lexer": "ipython3",
   "version": "3.12.8"
  }
 },
 "nbformat": 4,
 "nbformat_minor": 5
}
