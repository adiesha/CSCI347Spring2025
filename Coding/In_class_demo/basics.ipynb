{
 "cells": [
  {
   "cell_type": "code",
   "execution_count": 2,
   "id": "0329e03c-f622-4709-b9be-b17d8818ea6c",
   "metadata": {},
   "outputs": [
    {
     "data": {
      "text/plain": [
       "6.166666666666667"
      ]
     },
     "execution_count": 2,
     "metadata": {},
     "output_type": "execute_result"
    }
   ],
   "source": [
    "X = [20, 3, 1 , 3, 6, 4]\n",
    "sum = 0\n",
    "for x_i in X:\n",
    "  sum += x_i\n",
    "x_hat = sum/len(X)\n",
    "x_hat"
   ]
  },
  {
   "cell_type": "code",
   "execution_count": 3,
   "id": "8e02105a-5964-4092-b5f4-ecdab1297ba7",
   "metadata": {},
   "outputs": [
    {
     "data": {
      "text/plain": [
       "6.166666666666667"
      ]
     },
     "execution_count": 3,
     "metadata": {},
     "output_type": "execute_result"
    }
   ],
   "source": [
    "def mean(X):\n",
    "  sum = 0\n",
    "  for x_i in X:\n",
    "    sum += x_i\n",
    "  x_hat = sum/len(X)\n",
    "  return x_hat\n",
    "\n",
    "mean(X)"
   ]
  },
  {
   "cell_type": "code",
   "execution_count": 4,
   "id": "1ec6dad6-8dce-47fe-a5be-85ef0b4fe3d1",
   "metadata": {},
   "outputs": [
    {
     "name": "stdout",
     "output_type": "stream",
     "text": [
      "Requirement already satisfied: numpy in c:\\users\\z72w146\\appdata\\local\\programs\\python\\python312\\lib\\site-packages (2.2.1)Note: you may need to restart the kernel to use updated packages.\n",
      "\n"
     ]
    }
   ],
   "source": [
    "pip install numpy"
   ]
  },
  {
   "cell_type": "code",
   "execution_count": 6,
   "id": "28965992-9316-469f-b658-a40521d8d9ab",
   "metadata": {},
   "outputs": [
    {
     "name": "stdout",
     "output_type": "stream",
     "text": [
      "6.166666666666667\n"
     ]
    }
   ],
   "source": [
    "import numpy as np\n",
    "X = np.array([20, 3, 1 , 3, 6, 4])\n",
    "x_hat = X.sum()/ X.size\n",
    "x_hat\n",
    "print(x_hat)"
   ]
  },
  {
   "cell_type": "code",
   "execution_count": 7,
   "id": "55684bad-908f-4b54-9a06-09d1791db636",
   "metadata": {},
   "outputs": [
    {
     "data": {
      "text/plain": [
       "np.float64(6.166666666666667)"
      ]
     },
     "execution_count": 7,
     "metadata": {},
     "output_type": "execute_result"
    }
   ],
   "source": [
    "X.mean()"
   ]
  },
  {
   "cell_type": "code",
   "execution_count": 8,
   "id": "0ddb3ce4-d072-460c-917f-dca547ee77bb",
   "metadata": {},
   "outputs": [
    {
     "data": {
      "text/plain": [
       "np.int64(1)"
      ]
     },
     "execution_count": 8,
     "metadata": {},
     "output_type": "execute_result"
    }
   ],
   "source": [
    "X.min()"
   ]
  },
  {
   "cell_type": "code",
   "execution_count": 9,
   "id": "67f92635-e649-4f77-99c1-203bf9ffff42",
   "metadata": {},
   "outputs": [
    {
     "data": {
      "text/plain": [
       "np.int64(20)"
      ]
     },
     "execution_count": 9,
     "metadata": {},
     "output_type": "execute_result"
    }
   ],
   "source": [
    "X.max()"
   ]
  },
  {
   "cell_type": "code",
   "execution_count": 12,
   "id": "0280f62e-4e7c-430e-9ba8-59dc62183438",
   "metadata": {},
   "outputs": [
    {
     "data": {
      "text/plain": [
       "array([[0.30897716, 0.643766  , 0.51895639, 0.51804418],\n",
       "       [0.35204061, 0.58194237, 0.87984281, 0.76529434],\n",
       "       [0.47292151, 0.58203822, 0.98998323, 0.27614614],\n",
       "       [0.87555894, 0.44553404, 0.05402121, 0.72492813],\n",
       "       [0.37690042, 0.15644132, 0.13775865, 0.76156223],\n",
       "       [0.55811659, 0.46744846, 0.76107546, 0.65306958]])"
      ]
     },
     "execution_count": 12,
     "metadata": {},
     "output_type": "execute_result"
    }
   ],
   "source": [
    "D = np.random.random((6,4))\n",
    "D"
   ]
  },
  {
   "cell_type": "code",
   "execution_count": null,
   "id": "35a8a42a-c8f3-4172-9bf1-60611db7eb3c",
   "metadata": {},
   "outputs": [],
   "source": []
  },
  {
   "cell_type": "code",
   "execution_count": 14,
   "id": "583ffed2-f7f8-4a2a-a353-ea0a322b1244",
   "metadata": {},
   "outputs": [
    {
     "data": {
      "text/plain": [
       "(6, 4)"
      ]
     },
     "execution_count": 14,
     "metadata": {},
     "output_type": "execute_result"
    }
   ],
   "source": [
    "D.shape"
   ]
  },
  {
   "cell_type": "code",
   "execution_count": 15,
   "id": "797689ae-112f-44ce-a6c4-159588df2490",
   "metadata": {},
   "outputs": [
    {
     "data": {
      "text/plain": [
       "np.float64(0.3089771617390822)"
      ]
     },
     "execution_count": 15,
     "metadata": {},
     "output_type": "execute_result"
    }
   ],
   "source": [
    "D[0,0]"
   ]
  },
  {
   "cell_type": "code",
   "execution_count": 16,
   "id": "ccaba3e8-0c5b-4575-9df9-0578cffac7b5",
   "metadata": {},
   "outputs": [
    {
     "data": {
      "text/plain": [
       "np.float64(0.1377586455696881)"
      ]
     },
     "execution_count": 16,
     "metadata": {},
     "output_type": "execute_result"
    }
   ],
   "source": [
    "D[4,2]"
   ]
  },
  {
   "cell_type": "code",
   "execution_count": 17,
   "id": "090f14f9-f49e-4fbd-865e-9e31e2810046",
   "metadata": {},
   "outputs": [
    {
     "ename": "IndexError",
     "evalue": "index 6 is out of bounds for axis 0 with size 6",
     "output_type": "error",
     "traceback": [
      "\u001b[1;31m---------------------------------------------------------------------------\u001b[0m",
      "\u001b[1;31mIndexError\u001b[0m                                Traceback (most recent call last)",
      "Cell \u001b[1;32mIn[17], line 1\u001b[0m\n\u001b[1;32m----> 1\u001b[0m \u001b[43mD\u001b[49m\u001b[43m[\u001b[49m\u001b[38;5;241;43m6\u001b[39;49m\u001b[43m,\u001b[49m\u001b[38;5;241;43m2\u001b[39;49m\u001b[43m]\u001b[49m\n",
      "\u001b[1;31mIndexError\u001b[0m: index 6 is out of bounds for axis 0 with size 6"
     ]
    }
   ],
   "source": [
    "D[6,2]"
   ]
  },
  {
   "cell_type": "code",
   "execution_count": 18,
   "id": "ccb00cb6-1a40-4ec2-a3af-5de03bd62a1d",
   "metadata": {},
   "outputs": [
    {
     "data": {
      "text/plain": [
       "[np.float64(0.3089771617390822),\n",
       " np.float64(0.3520406058254162),\n",
       " np.float64(0.4729215134075202),\n",
       " np.float64(0.8755589423064226),\n",
       " np.float64(0.3769004166956237),\n",
       " np.float64(0.5581165863318033)]"
      ]
     },
     "execution_count": 18,
     "metadata": {},
     "output_type": "execute_result"
    }
   ],
   "source": [
    "column_0_loop = []\n",
    "for row in D:\n",
    "    column_0_loop.append(row[0])\n",
    "column_0_loop"
   ]
  },
  {
   "cell_type": "code",
   "execution_count": 19,
   "id": "9a8703e5-c53f-4036-9a22-5c7ed10263bb",
   "metadata": {},
   "outputs": [
    {
     "data": {
      "text/plain": [
       "array([[0.30897716, 0.643766  , 0.51895639, 0.51804418],\n",
       "       [0.35204061, 0.58194237, 0.87984281, 0.76529434],\n",
       "       [0.47292151, 0.58203822, 0.98998323, 0.27614614],\n",
       "       [0.87555894, 0.44553404, 0.05402121, 0.72492813],\n",
       "       [0.37690042, 0.15644132, 0.13775865, 0.76156223],\n",
       "       [0.55811659, 0.46744846, 0.76107546, 0.65306958]])"
      ]
     },
     "execution_count": 19,
     "metadata": {},
     "output_type": "execute_result"
    }
   ],
   "source": [
    "D"
   ]
  },
  {
   "cell_type": "code",
   "execution_count": 22,
   "id": "afbae464-0185-4457-96f0-c31508eab8fe",
   "metadata": {},
   "outputs": [
    {
     "data": {
      "text/plain": [
       "[np.float64(0.3089771617390822),\n",
       " np.float64(0.3520406058254162),\n",
       " np.float64(0.4729215134075202),\n",
       " np.float64(0.8755589423064226),\n",
       " np.float64(0.3769004166956237),\n",
       " np.float64(0.5581165863318033)]"
      ]
     },
     "execution_count": 22,
     "metadata": {},
     "output_type": "execute_result"
    }
   ],
   "source": [
    "column_0 = [row[0] for row in D]\n",
    "column_0"
   ]
  },
  {
   "cell_type": "code",
   "execution_count": 23,
   "id": "d0921303-7037-40c9-b78c-494537cddf26",
   "metadata": {},
   "outputs": [
    {
     "data": {
      "text/plain": [
       "array([0.30897716, 0.35204061, 0.47292151, 0.87555894, 0.37690042,\n",
       "       0.55811659])"
      ]
     },
     "execution_count": 23,
     "metadata": {},
     "output_type": "execute_result"
    }
   ],
   "source": [
    "D[:,0]"
   ]
  },
  {
   "cell_type": "code",
   "execution_count": 24,
   "id": "871c6796-2d20-48e9-a889-727be6d6698d",
   "metadata": {},
   "outputs": [
    {
     "data": {
      "text/plain": [
       "array([0.87555894, 0.44553404, 0.05402121, 0.72492813])"
      ]
     },
     "execution_count": 24,
     "metadata": {},
     "output_type": "execute_result"
    }
   ],
   "source": [
    "D[3, :]"
   ]
  },
  {
   "cell_type": "code",
   "execution_count": 25,
   "id": "4275da79-0c84-4081-bee8-d6ddcce91d1d",
   "metadata": {},
   "outputs": [
    {
     "data": {
      "text/plain": [
       "(6, 4)"
      ]
     },
     "execution_count": 25,
     "metadata": {},
     "output_type": "execute_result"
    }
   ],
   "source": [
    "D.shape"
   ]
  },
  {
   "cell_type": "code",
   "execution_count": 26,
   "id": "71dcf37e-63a3-4c7e-9418-fe0b035eba7b",
   "metadata": {},
   "outputs": [
    {
     "data": {
      "text/plain": [
       "array([[0.30897716, 0.51895639, 0.51804418],\n",
       "       [0.35204061, 0.87984281, 0.76529434],\n",
       "       [0.47292151, 0.98998323, 0.27614614],\n",
       "       [0.87555894, 0.05402121, 0.72492813],\n",
       "       [0.37690042, 0.13775865, 0.76156223],\n",
       "       [0.55811659, 0.76107546, 0.65306958]])"
      ]
     },
     "execution_count": 26,
     "metadata": {},
     "output_type": "execute_result"
    }
   ],
   "source": [
    "D[:, [0,2,3]]"
   ]
  },
  {
   "cell_type": "code",
   "execution_count": 28,
   "id": "bac81ed6-9d8a-4f18-bd78-5eb2564ac706",
   "metadata": {},
   "outputs": [
    {
     "data": {
      "text/plain": [
       "array([[0.51804418, 0.51895639, 0.30897716],\n",
       "       [0.76529434, 0.87984281, 0.35204061],\n",
       "       [0.27614614, 0.98998323, 0.47292151],\n",
       "       [0.72492813, 0.05402121, 0.87555894],\n",
       "       [0.76156223, 0.13775865, 0.37690042],\n",
       "       [0.65306958, 0.76107546, 0.55811659]])"
      ]
     },
     "execution_count": 28,
     "metadata": {},
     "output_type": "execute_result"
    }
   ],
   "source": [
    "D[:, [3,2,0]]"
   ]
  },
  {
   "cell_type": "code",
   "execution_count": 27,
   "id": "01a258ca-4c3e-407d-8b2f-efd460aa684b",
   "metadata": {},
   "outputs": [
    {
     "data": {
      "text/plain": [
       "array([[0.47292151, 0.58203822, 0.98998323, 0.27614614],\n",
       "       [0.87555894, 0.44553404, 0.05402121, 0.72492813],\n",
       "       [0.37690042, 0.15644132, 0.13775865, 0.76156223]])"
      ]
     },
     "execution_count": 27,
     "metadata": {},
     "output_type": "execute_result"
    }
   ],
   "source": [
    "D[[2,3,4],:]"
   ]
  },
  {
   "cell_type": "code",
   "execution_count": 29,
   "id": "ee883f84-0719-402d-bdab-0d15ca04e1c8",
   "metadata": {},
   "outputs": [
    {
     "ename": "IndexError",
     "evalue": "shape mismatch: indexing arrays could not be broadcast together with shapes (3,) (2,) ",
     "output_type": "error",
     "traceback": [
      "\u001b[1;31m---------------------------------------------------------------------------\u001b[0m",
      "\u001b[1;31mIndexError\u001b[0m                                Traceback (most recent call last)",
      "Cell \u001b[1;32mIn[29], line 1\u001b[0m\n\u001b[1;32m----> 1\u001b[0m \u001b[43mD\u001b[49m\u001b[43m[\u001b[49m\u001b[43m[\u001b[49m\u001b[38;5;241;43m0\u001b[39;49m\u001b[43m,\u001b[49m\u001b[38;5;241;43m2\u001b[39;49m\u001b[43m,\u001b[49m\u001b[38;5;241;43m3\u001b[39;49m\u001b[43m]\u001b[49m\u001b[43m,\u001b[49m\u001b[43m \u001b[49m\u001b[43m[\u001b[49m\u001b[38;5;241;43m0\u001b[39;49m\u001b[43m,\u001b[49m\u001b[38;5;241;43m2\u001b[39;49m\u001b[43m]\u001b[49m\u001b[43m]\u001b[49m\n",
      "\u001b[1;31mIndexError\u001b[0m: shape mismatch: indexing arrays could not be broadcast together with shapes (3,) (2,) "
     ]
    }
   ],
   "source": [
    "D[[0,2,3], [0,2]]"
   ]
  },
  {
   "cell_type": "code",
   "execution_count": 30,
   "id": "25048594-2b2c-4cc4-b1bb-af54973305be",
   "metadata": {},
   "outputs": [
    {
     "data": {
      "text/plain": [
       "array([0.30897716, 0.98998323, 0.72492813])"
      ]
     },
     "execution_count": 30,
     "metadata": {},
     "output_type": "execute_result"
    }
   ],
   "source": [
    "D[[0,2,3],[0,2,3]]"
   ]
  },
  {
   "cell_type": "code",
   "execution_count": 31,
   "id": "4b9f7975-962b-499b-a233-401817ff65f8",
   "metadata": {},
   "outputs": [
    {
     "data": {
      "text/plain": [
       "array([[0.30897716, 0.643766  , 0.51895639, 0.51804418],\n",
       "       [0.35204061, 0.58194237, 0.87984281, 0.76529434],\n",
       "       [0.47292151, 0.58203822, 0.98998323, 0.27614614],\n",
       "       [0.87555894, 0.44553404, 0.05402121, 0.72492813],\n",
       "       [0.37690042, 0.15644132, 0.13775865, 0.76156223],\n",
       "       [0.55811659, 0.46744846, 0.76107546, 0.65306958]])"
      ]
     },
     "execution_count": 31,
     "metadata": {},
     "output_type": "execute_result"
    }
   ],
   "source": [
    "D"
   ]
  },
  {
   "cell_type": "code",
   "execution_count": 32,
   "id": "0b8b77f4-cdec-4b9d-8a8d-2cce41cf7bd6",
   "metadata": {},
   "outputs": [
    {
     "name": "stdout",
     "output_type": "stream",
     "text": [
      "[[0.643766   0.51804418]\n",
      " [0.58203822 0.27614614]\n",
      " [0.44553404 0.72492813]]\n"
     ]
    }
   ],
   "source": [
    "rows = [0, 2, 3]  # Rows to select\n",
    "cols = [1, 3]  # Columns to select\n",
    "\n",
    "print(D[np.ix_(rows, cols)])"
   ]
  },
  {
   "cell_type": "code",
   "execution_count": 34,
   "id": "b8625b40-9858-4257-922b-fcb4f97e8dc3",
   "metadata": {},
   "outputs": [],
   "source": [
    "X0 = D[:, 0]\n",
    "X1 = D[:, 1]\n",
    "X2 = D[:, 2]"
   ]
  },
  {
   "cell_type": "code",
   "execution_count": 35,
   "id": "ca8ed87a-32c4-46ad-bfaf-c36eb3951232",
   "metadata": {},
   "outputs": [
    {
     "data": {
      "text/plain": [
       "np.float64(1.4622593212272255)"
      ]
     },
     "execution_count": 35,
     "metadata": {},
     "output_type": "execute_result"
    }
   ],
   "source": [
    "np.dot(X0, X2)"
   ]
  },
  {
   "cell_type": "code",
   "execution_count": 37,
   "id": "93d33de6-b5b8-4f50-9f78-cd6de6d934c8",
   "metadata": {},
   "outputs": [
    {
     "data": {
      "text/plain": [
       "np.float64(2.5184815333822566)"
      ]
     },
     "execution_count": 37,
     "metadata": {},
     "output_type": "execute_result"
    }
   ],
   "source": [
    "d1 = np.linalg.norm(X2-X0, 1)\n",
    "d1"
   ]
  },
  {
   "cell_type": "code",
   "execution_count": 39,
   "id": "8e35e9ae-c3d1-4064-bcf6-38bb3c1746dc",
   "metadata": {},
   "outputs": [
    {
     "data": {
      "text/plain": [
       "np.float64(1.167614921367676)"
      ]
     },
     "execution_count": 39,
     "metadata": {},
     "output_type": "execute_result"
    }
   ],
   "source": [
    "d2 = np.linalg.norm(X2-X0, 2)\n",
    "d2"
   ]
  },
  {
   "cell_type": "code",
   "execution_count": 40,
   "id": "5a2890d8-8cc1-42ae-bbb5-ad7c4724f718",
   "metadata": {},
   "outputs": [
    {
     "data": {
      "text/plain": [
       "array([1.23590865, 1.40816242, 1.89168605, 3.50223577, 1.50760167,\n",
       "       2.23246635])"
      ]
     },
     "execution_count": 40,
     "metadata": {},
     "output_type": "execute_result"
    }
   ],
   "source": [
    "4*X0"
   ]
  },
  {
   "cell_type": "code",
   "execution_count": 42,
   "id": "1baf4084-c88d-4a36-b706-be6716dd5cda",
   "metadata": {},
   "outputs": [
    {
     "name": "stdout",
     "output_type": "stream",
     "text": [
      "[0.30897716 0.35204061 0.47292151 0.87555894 0.37690042 0.55811659]\n",
      "[0.23958156 0.27297305 0.36670437 0.6789103  0.2922494  0.43276481]\n"
     ]
    }
   ],
   "source": [
    "two_norm_of_X0 = np.linalg.norm(X0, 2)\n",
    "normalized_X0 = X0 / two_norm_of_X0\n",
    "print(X0)\n",
    "print(normalized_X0)"
   ]
  },
  {
   "cell_type": "code",
   "execution_count": 43,
   "id": "e20fb041-c2f9-47fb-823a-31719dda668b",
   "metadata": {},
   "outputs": [
    {
     "name": "stdout",
     "output_type": "stream",
     "text": [
      "[[ 7 14  8 11  9 15 15]\n",
      " [-2  5  3  5 16 11 12]\n",
      " [12 19  3  3  8  0  7]\n",
      " [ 4 19 -2 17 -1 11 10]\n",
      " [15 11  5  2 10  1 11]]\n"
     ]
    }
   ],
   "source": [
    "I = np.random.randint(-2, 20, (5,7), dtype=np.int32)\n",
    "print(I)"
   ]
  },
  {
   "cell_type": "code",
   "execution_count": 46,
   "id": "e87c75ea-0f8d-4358-8006-9f552ef03300",
   "metadata": {},
   "outputs": [
    {
     "data": {
      "text/plain": [
       "array([[ 6, 12,  5,  7,  4,  9,  8],\n",
       "       [-3,  3,  0,  1, 11,  5,  5],\n",
       "       [11, 17,  0, -1,  3, -6,  0],\n",
       "       [ 3, 17, -5, 13, -6,  5,  3],\n",
       "       [14,  9,  2, -2,  5, -5,  4]])"
      ]
     },
     "execution_count": 46,
     "metadata": {},
     "output_type": "execute_result"
    }
   ],
   "source": [
    "I - np.array([1,2,3,4,5,6,7])"
   ]
  },
  {
   "cell_type": "code",
   "execution_count": 47,
   "id": "8b00be67-f45b-40e8-8c5c-d64c5782b0a2",
   "metadata": {},
   "outputs": [
    {
     "data": {
      "text/plain": [
       "array([[ 7, 14,  8, 11,  9, 15, 15],\n",
       "       [-2,  5,  3,  5, 16, 11, 12],\n",
       "       [12, 19,  3,  3,  8,  0,  7],\n",
       "       [ 4, 19, -2, 17, -1, 11, 10],\n",
       "       [15, 11,  5,  2, 10,  1, 11]], dtype=int32)"
      ]
     },
     "execution_count": 47,
     "metadata": {},
     "output_type": "execute_result"
    }
   ],
   "source": [
    "I"
   ]
  },
  {
   "cell_type": "code",
   "execution_count": 48,
   "id": "052ae2ce-1ffd-46fe-8ede-d6771214bed0",
   "metadata": {},
   "outputs": [
    {
     "data": {
      "text/plain": [
       "np.float64(8.4)"
      ]
     },
     "execution_count": 48,
     "metadata": {},
     "output_type": "execute_result"
    }
   ],
   "source": [
    "I.mean()"
   ]
  },
  {
   "cell_type": "code",
   "execution_count": 49,
   "id": "94033b82-12a0-4ce9-ad80-ed1353b7efd1",
   "metadata": {},
   "outputs": [
    {
     "data": {
      "text/plain": [
       "array([ 7.2, 13.6,  3.4,  7.6,  8.4,  7.6, 11. ])"
      ]
     },
     "execution_count": 49,
     "metadata": {},
     "output_type": "execute_result"
    }
   ],
   "source": [
    "I.mean(axis=0)"
   ]
  },
  {
   "cell_type": "code",
   "execution_count": 50,
   "id": "58817f12-8a28-4209-a8dc-8b54f329eece",
   "metadata": {},
   "outputs": [
    {
     "data": {
      "text/plain": [
       "array([11.28571429,  7.14285714,  7.42857143,  8.28571429,  7.85714286])"
      ]
     },
     "execution_count": 50,
     "metadata": {},
     "output_type": "execute_result"
    }
   ],
   "source": [
    "I.mean(axis=1)"
   ]
  },
  {
   "cell_type": "code",
   "execution_count": 51,
   "id": "1ecef656-fdbe-49c1-bfbf-19a2c3fbb645",
   "metadata": {},
   "outputs": [
    {
     "data": {
      "text/plain": [
       "array([[0.30897716, 0.643766  , 0.51895639, 0.51804418],\n",
       "       [0.35204061, 0.58194237, 0.87984281, 0.76529434],\n",
       "       [0.47292151, 0.58203822, 0.98998323, 0.27614614],\n",
       "       [0.87555894, 0.44553404, 0.05402121, 0.72492813],\n",
       "       [0.37690042, 0.15644132, 0.13775865, 0.76156223],\n",
       "       [0.55811659, 0.46744846, 0.76107546, 0.65306958]])"
      ]
     },
     "execution_count": 51,
     "metadata": {},
     "output_type": "execute_result"
    }
   ],
   "source": [
    "D"
   ]
  },
  {
   "cell_type": "code",
   "execution_count": 53,
   "id": "d435f93e-57dc-4492-922c-2b9fc4732ba9",
   "metadata": {},
   "outputs": [
    {
     "data": {
      "text/plain": [
       "array([0.49075254, 0.4795284 , 0.55693963, 0.61650743])"
      ]
     },
     "execution_count": 53,
     "metadata": {},
     "output_type": "execute_result"
    }
   ],
   "source": [
    "D.mean(axis=0)"
   ]
  },
  {
   "cell_type": "code",
   "execution_count": 54,
   "id": "3e88c3a0-2d2b-4d3a-a518-aebc266c00e5",
   "metadata": {},
   "outputs": [
    {
     "data": {
      "text/plain": [
       "array([[-0.18177538,  0.1642376 , -0.03798323, -0.09846326],\n",
       "       [-0.13871193,  0.10241397,  0.32290319,  0.14878691],\n",
       "       [-0.01783102,  0.10250982,  0.43304361, -0.34036129],\n",
       "       [ 0.3848064 , -0.03399436, -0.50291842,  0.1084207 ],\n",
       "       [-0.11385212, -0.32308708, -0.41918098,  0.14505479],\n",
       "       [ 0.06736405, -0.01207994,  0.20413584,  0.03656215]])"
      ]
     },
     "execution_count": 54,
     "metadata": {},
     "output_type": "execute_result"
    }
   ],
   "source": [
    "D-D.mean(axis=0)"
   ]
  },
  {
   "cell_type": "code",
   "execution_count": 55,
   "id": "f828b2fd-5be1-40d0-a0e4-73e27990abc2",
   "metadata": {},
   "outputs": [
    {
     "data": {
      "text/plain": [
       "array([[ 7, 14,  8, 11,  9, 15, 15],\n",
       "       [-2,  5,  3,  5, 16, 11, 12],\n",
       "       [12, 19,  3,  3,  8,  0,  7],\n",
       "       [ 4, 19, -2, 17, -1, 11, 10],\n",
       "       [15, 11,  5,  2, 10,  1, 11]], dtype=int32)"
      ]
     },
     "execution_count": 55,
     "metadata": {},
     "output_type": "execute_result"
    }
   ],
   "source": [
    "I"
   ]
  },
  {
   "cell_type": "code",
   "execution_count": 56,
   "id": "4f06d7f1-efb8-4ef0-b864-52b1b9b0f9f1",
   "metadata": {},
   "outputs": [
    {
     "data": {
      "text/plain": [
       "array([[ 7, -2, 12,  4, 15],\n",
       "       [14,  5, 19, 19, 11],\n",
       "       [ 8,  3,  3, -2,  5],\n",
       "       [11,  5,  3, 17,  2],\n",
       "       [ 9, 16,  8, -1, 10],\n",
       "       [15, 11,  0, 11,  1],\n",
       "       [15, 12,  7, 10, 11]], dtype=int32)"
      ]
     },
     "execution_count": 56,
     "metadata": {},
     "output_type": "execute_result"
    }
   ],
   "source": [
    "I.transpose()"
   ]
  },
  {
   "cell_type": "markdown",
   "id": "d0d9730f-728f-47c0-9f56-8a69ea5e1e43",
   "metadata": {},
   "source": [
    "write some code to mean center along the rows. "
   ]
  },
  {
   "cell_type": "code",
   "execution_count": 57,
   "id": "cc522695-9b7a-43d0-b540-d9de7c8982ef",
   "metadata": {},
   "outputs": [
    {
     "data": {
      "text/plain": [
       "array([[ -4.28571429,   2.71428571,  -3.28571429,  -0.28571429,\n",
       "         -2.28571429,   3.71428571,   3.71428571],\n",
       "       [ -9.14285714,  -2.14285714,  -4.14285714,  -2.14285714,\n",
       "          8.85714286,   3.85714286,   4.85714286],\n",
       "       [  4.57142857,  11.57142857,  -4.42857143,  -4.42857143,\n",
       "          0.57142857,  -7.42857143,  -0.42857143],\n",
       "       [ -4.28571429,  10.71428571, -10.28571429,   8.71428571,\n",
       "         -9.28571429,   2.71428571,   1.71428571],\n",
       "       [  7.14285714,   3.14285714,  -2.85714286,  -5.85714286,\n",
       "          2.14285714,  -6.85714286,   3.14285714]])"
      ]
     },
     "execution_count": 57,
     "metadata": {},
     "output_type": "execute_result"
    }
   ],
   "source": [
    "(I.transpose() - I.mean(axis=1)).transpose()"
   ]
  },
  {
   "cell_type": "code",
   "execution_count": 58,
   "id": "0be214bf-deec-4950-934a-563d8b8e1e1d",
   "metadata": {},
   "outputs": [
    {
     "name": "stdout",
     "output_type": "stream",
     "text": [
      "0.04363548446176323\n"
     ]
    }
   ],
   "source": [
    "var_x0 = np.sum((X0-X0.mean())**2) / (X0.size-1)\n",
    "print(var_x0)"
   ]
  },
  {
   "cell_type": "code",
   "execution_count": 59,
   "id": "72578e8f-86d4-4977-8c06-a8402a9cfd77",
   "metadata": {},
   "outputs": [
    {
     "data": {
      "text/plain": [
       "np.float64(0.036362903718136025)"
      ]
     },
     "execution_count": 59,
     "metadata": {},
     "output_type": "execute_result"
    }
   ],
   "source": [
    "np.var(X0)"
   ]
  },
  {
   "cell_type": "code",
   "execution_count": null,
   "id": "93f61dc3-6933-4c0b-b926-be4cdf6905d0",
   "metadata": {},
   "outputs": [],
   "source": []
  },
  {
   "cell_type": "code",
   "execution_count": 61,
   "id": "458ff35d-8965-42e0-9a11-449c2a724530",
   "metadata": {},
   "outputs": [
    {
     "data": {
      "text/plain": [
       "np.float64(0.04363548446176323)"
      ]
     },
     "execution_count": 61,
     "metadata": {},
     "output_type": "execute_result"
    }
   ],
   "source": [
    "np.var(X0)*(X0.size)/(X0.size-1)"
   ]
  },
  {
   "cell_type": "code",
   "execution_count": 62,
   "id": "0e375c59-196c-4a4c-99b3-a7dd289fd484",
   "metadata": {},
   "outputs": [
    {
     "data": {
      "text/plain": [
       "np.float64(0.04363548446176323)"
      ]
     },
     "execution_count": 62,
     "metadata": {},
     "output_type": "execute_result"
    }
   ],
   "source": [
    "np.var(X0, ddof=1)"
   ]
  },
  {
   "cell_type": "markdown",
   "id": "a99cb310-bf99-4d85-bfc1-46380f230bf5",
   "metadata": {},
   "source": [
    "Create a matrix M of 10 rows and 8 columns, fill with it with random values.\n",
    "Calculate the multi dimensional mean (represent the multi dimensional mean as a vector)\n",
    "Calculate the min, max, variance and SD of each attribute.\n",
    "Create matrix R with range normalized data.\n",
    "Create matrix Z with z-scores."
   ]
  },
  {
   "cell_type": "code",
   "execution_count": 70,
   "id": "81185dde-623c-4461-ac3f-610417757b87",
   "metadata": {},
   "outputs": [
    {
     "name": "stdout",
     "output_type": "stream",
     "text": [
      "[0.49558442 0.32646772 0.45076541 0.38954166 0.63665097 0.56877212\n",
      " 0.47653808 0.40108763]\n"
     ]
    }
   ],
   "source": [
    "M = np.random.rand(10,8)\n",
    "mean_vec = M.mean(axis=0)\n",
    "print(mean_vec)"
   ]
  },
  {
   "cell_type": "code",
   "execution_count": 72,
   "id": "6b326a59-d4b5-4c99-b35b-be2780a1c5ed",
   "metadata": {},
   "outputs": [
    {
     "data": {
      "text/plain": [
       "array([0.11280741, 0.08966087, 0.1410082 , 0.01093353, 0.15558781,\n",
       "       0.11883575, 0.04935441, 0.02525559])"
      ]
     },
     "execution_count": 72,
     "metadata": {},
     "output_type": "execute_result"
    }
   ],
   "source": [
    "np.min(M, axis=0)"
   ]
  },
  {
   "cell_type": "code",
   "execution_count": 73,
   "id": "90d439be-26b8-4441-8853-cedcd95d53b1",
   "metadata": {},
   "outputs": [
    {
     "data": {
      "text/plain": [
       "array([0.70993927, 0.8123883 , 0.75990353, 0.81275812, 0.99960456,\n",
       "       0.88300554, 0.86622964, 0.81164111])"
      ]
     },
     "execution_count": 73,
     "metadata": {},
     "output_type": "execute_result"
    }
   ],
   "source": [
    "np.max(M, axis=0)"
   ]
  },
  {
   "cell_type": "code",
   "execution_count": 76,
   "id": "319f0960-d4ca-4876-8fb2-12729591ff99",
   "metadata": {},
   "outputs": [
    {
     "data": {
      "text/plain": [
       "array([0.0346752 , 0.04849062, 0.0427172 , 0.07153721, 0.08673694,\n",
       "       0.05740044, 0.07981537, 0.08078342])"
      ]
     },
     "execution_count": 76,
     "metadata": {},
     "output_type": "execute_result"
    }
   ],
   "source": [
    "variance_vec = np.var(M, axis=0, ddof=1)\n",
    "variance_vec"
   ]
  },
  {
   "cell_type": "code",
   "execution_count": 78,
   "id": "117cc574-9336-4189-8153-c1e279e8de60",
   "metadata": {},
   "outputs": [
    {
     "data": {
      "text/plain": [
       "array([0.18621277, 0.22020585, 0.20668139, 0.26746441, 0.29451136,\n",
       "       0.23958388, 0.28251614, 0.28422423])"
      ]
     },
     "execution_count": 78,
     "metadata": {},
     "output_type": "execute_result"
    }
   ],
   "source": [
    "std_v = np.std(M, axis=0, ddof=1)\n",
    "std_v"
   ]
  },
  {
   "cell_type": "code",
   "execution_count": 81,
   "id": "ad5e6c8a-5084-4000-bf8d-5b70258b3d66",
   "metadata": {},
   "outputs": [
    {
     "data": {
      "text/plain": [
       "array([[0.54948051, 0.33242446, 0.23266419, 0.02274631, 0.29113719,\n",
       "        0.        , 0.1641185 , 0.7223675 ],\n",
       "       [1.        , 0.03046347, 0.41329211, 1.        , 0.        ,\n",
       "        0.69280339, 1.        , 0.83626644],\n",
       "       [0.6630114 , 0.57831029, 0.42103237, 0.38091286, 0.93868811,\n",
       "        0.85327131, 0.36089174, 0.26748068],\n",
       "       [0.97105811, 0.1680863 , 1.        , 0.62914852, 0.45506103,\n",
       "        0.87870076, 0.        , 1.        ],\n",
       "       [0.7909574 , 0.        , 0.62852649, 0.22951326, 1.        ,\n",
       "        0.48955278, 0.92112254, 0.19081889],\n",
       "       [0.39369745, 0.51032624, 0.69084526, 0.35713782, 0.38853007,\n",
       "        1.        , 0.57097021, 0.68800506],\n",
       "       [0.47456074, 1.        , 0.72387653, 0.        , 0.22330347,\n",
       "        0.46395044, 0.67961328, 0.23021172],\n",
       "       [0.60268665, 0.3423342 , 0.05374733, 0.80049029, 0.78605786,\n",
       "        0.18384546, 0.11798645, 0.77424839],\n",
       "       [0.96480719, 0.2199672 , 0.84101732, 0.54825142, 0.65746691,\n",
       "        0.61998147, 0.74618063, 0.06983521],\n",
       "       [0.        , 0.09465999, 0.        , 0.75363191, 0.95944276,\n",
       "        0.70580534, 0.66860161, 0.        ]])"
      ]
     },
     "execution_count": 81,
     "metadata": {},
     "output_type": "execute_result"
    }
   ],
   "source": [
    "R = (M - np.min(M, axis=0))/(np.max(M, axis=0) - np.min(M, axis=0))\n",
    "R"
   ]
  },
  {
   "cell_type": "code",
   "execution_count": 83,
   "id": "5beea52c-c8be-49c5-84cc-eacbcb0cba53",
   "metadata": {},
   "outputs": [
    {
     "data": {
      "text/plain": [
       "array([[-0.29356041,  0.01564636, -0.80201913, -1.34735526, -0.79908122,\n",
       "        -1.87799096, -1.03753129,  0.67632272],\n",
       "       [ 1.1511286 , -0.97540585, -0.26113941,  1.5823281 , -1.6334282 ,\n",
       "         0.33175459,  1.37936032,  0.99145587],\n",
       "       [ 0.07050115,  0.82265686, -0.23796164, -0.27361709,  1.05668359,\n",
       "         0.8435784 , -0.46857552, -0.58224837],\n",
       "       [ 1.05832012, -0.52372032,  1.49572303,  0.47056212, -0.32930489,\n",
       "         0.92468743, -1.51206819,  1.44447037],\n",
       "       [ 0.48078791, -1.07538859,  0.38336735, -0.72749401,  1.23239247,\n",
       "        -0.31652764,  1.15129179, -0.79435457],\n",
       "       [-0.79311275,  0.59952955,  0.56997727, -0.34489165, -0.5199707 ,\n",
       "         1.31157996,  0.13885135,  0.58124947],\n",
       "       [-0.53380699,  2.20666517,  0.66888748, -1.41554582, -0.99348049,\n",
       "        -0.39818811,  0.45298501, -0.68536333],\n",
       "       [-0.1229433 ,  0.04817066, -1.33777521,  0.98422314,  0.61927266,\n",
       "        -1.29160281, -1.17091881,  0.81986565],\n",
       "       [ 1.03827517, -0.35344442,  1.01965871,  0.22804282,  0.25075407,\n",
       "         0.09948391,  0.64545977, -1.12908962],\n",
       "       [-2.0555895 , -0.76470942, -1.49871843,  0.84374764,  1.11616269,\n",
       "         0.37322524,  0.42114558, -1.32230818]])"
      ]
     },
     "execution_count": 83,
     "metadata": {},
     "output_type": "execute_result"
    }
   ],
   "source": [
    "Z = (M - mean_vec)/std_v\n",
    "Z"
   ]
  }
 ],
 "metadata": {
  "kernelspec": {
   "display_name": "Python 3 (ipykernel)",
   "language": "python",
   "name": "python3"
  },
  "language_info": {
   "codemirror_mode": {
    "name": "ipython",
    "version": 3
   },
   "file_extension": ".py",
   "mimetype": "text/x-python",
   "name": "python",
   "nbconvert_exporter": "python",
   "pygments_lexer": "ipython3",
   "version": "3.12.8"
  }
 },
 "nbformat": 4,
 "nbformat_minor": 5
}
